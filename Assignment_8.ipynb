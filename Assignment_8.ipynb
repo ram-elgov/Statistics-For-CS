{
  "nbformat": 4,
  "nbformat_minor": 0,
  "metadata": {
    "colab": {
      "provenance": [],
      "authorship_tag": "ABX9TyNRhPguojiqOVQmM6FPOLx8",
      "include_colab_link": true
    },
    "kernelspec": {
      "name": "python3",
      "display_name": "Python 3"
    },
    "language_info": {
      "name": "python"
    }
  },
  "cells": [
    {
      "cell_type": "markdown",
      "metadata": {
        "id": "view-in-github",
        "colab_type": "text"
      },
      "source": [
        "<a href=\"https://colab.research.google.com/github/ram-elgov/Statistics-For-CS/blob/main/Assignment_8.ipynb\" target=\"_parent\"><img src=\"https://colab.research.google.com/assets/colab-badge.svg\" alt=\"Open In Colab\"/></a>"
      ]
    },
    {
      "cell_type": "code",
      "execution_count": null,
      "metadata": {
        "id": "F1f9NGNCsZQb"
      },
      "outputs": [],
      "source": [
        "import numpy as np\n",
        "from scipy.stats import norm\n",
        "from scipy.stats import t"
      ]
    },
    {
      "cell_type": "code",
      "source": [
        "count = 0\n",
        "K = 10 ** 5\n",
        "for i in range(K):\n",
        "  sample = norm.rvs(loc=175, scale=10, size=25)\n",
        "  z = (np.mean(sample) - 175) / 2\n",
        "  count = count + 1 if z <= -1.645 else count\n",
        "print(f\"The empirical probability for first type error: {count / K:.4f}\")"
      ],
      "metadata": {
        "colab": {
          "base_uri": "https://localhost:8080/"
        },
        "id": "UV18M_D1vhn8",
        "outputId": "1e1cac21-458b-490f-abc2-b6ea24339c5e"
      },
      "execution_count": null,
      "outputs": [
        {
          "output_type": "stream",
          "name": "stdout",
          "text": [
            "The empirical probability for first type error: 0.0499\n"
          ]
        }
      ]
    },
    {
      "cell_type": "code",
      "source": [
        "count = 0\n",
        "K = 10 ** 5\n",
        "for i in range(K):\n",
        "  sample = norm.rvs(loc=170, scale=10, size=25)\n",
        "  z = (np.mean(sample) - 170) / 2 - 2.5\n",
        "  count = count + 1 if z <= -1.645 else count\n",
        "print(f\"The empirical probability for second type error: {1 - count / K:.4f}\")"
      ],
      "metadata": {
        "colab": {
          "base_uri": "https://localhost:8080/"
        },
        "id": "SItTZcagyYUH",
        "outputId": "e6e2fadd-7e02-423d-a5d9-d332d248e270"
      },
      "execution_count": null,
      "outputs": [
        {
          "output_type": "stream",
          "name": "stdout",
          "text": [
            "The empirical probability for second type error: 0.1958\n"
          ]
        }
      ]
    },
    {
      "cell_type": "code",
      "source": [
        "count = 0\n",
        "K = 10 ** 5\n",
        "for i in range(K):\n",
        "  T = t.rvs(df=24)\n",
        "  count = count + 1 if T < -1.711 else count\n",
        "print(f\"The empirical probability for first type error with t distribution: {count / K:.4f}\")"
      ],
      "metadata": {
        "colab": {
          "base_uri": "https://localhost:8080/"
        },
        "id": "MineJU8f593O",
        "outputId": "50a02e7f-0c31-4b27-fd9d-add1963c8dea"
      },
      "execution_count": null,
      "outputs": [
        {
          "output_type": "stream",
          "name": "stdout",
          "text": [
            "The empirical probability for first type error with t distribution: 0.0501\n"
          ]
        }
      ]
    },
    {
      "cell_type": "code",
      "source": [
        "count = 0\n",
        "K = 10 ** 5\n",
        "for i in range(K):\n",
        "  sample_A = norm.rvs(loc=170, scale=10, size=25)\n",
        "  std_estimator = np.std(sample_A, ddof=1)\n",
        "  T = ((np.mean(sample_A) - 170) / (std_estimator/5)) - 5/(std_estimator/5)  \n",
        "  count = count + 1 if T <= -1.711 else count\n",
        "print(f\"The empirical probability for second type error with t distribution: {1 - count / K:.4f}\")"
      ],
      "metadata": {
        "colab": {
          "base_uri": "https://localhost:8080/"
        },
        "id": "qE0bKjiw3t5d",
        "outputId": "c644c90b-ae35-43a1-e762-bfc94539827e"
      },
      "execution_count": null,
      "outputs": [
        {
          "output_type": "stream",
          "name": "stdout",
          "text": [
            "The empirical probability for second type error with t distribution: 0.2172\n"
          ]
        }
      ]
    },
    {
      "cell_type": "code",
      "source": [
        "K = 10 ** 5\n",
        "for _ in range(K):\n",
        "  sample = norm.rvs(loc=175, scale=10, size=25)\n",
        "  std_estimator = np.std(sample, ddof=1)\n",
        "  T = ((np.mean(sample) - 175) / (std_estimator/5)) - 5/(std_estimator/5)\n",
        "  Z = ((np.mean(sample) - 175) / 2) - 2.5 # assuming H_A is the true hypothesis\n",
        "  if Z > -1.645 and T < -1.711:\n",
        "    print(f'T = {T:.4f} < -1.711')\n",
        "    print(f'Z = {Z:.4f} > -1.645')\n",
        "    break"
      ],
      "metadata": {
        "colab": {
          "base_uri": "https://localhost:8080/"
        },
        "id": "w5-_M5H2AMBP",
        "outputId": "14d99af8-e7d5-46f8-cc00-59031fa1e301"
      },
      "execution_count": null,
      "outputs": [
        {
          "output_type": "stream",
          "name": "stdout",
          "text": [
            "T = -1.8063 < -1.711\n",
            "Z = -1.6146 > -1.645\n"
          ]
        }
      ]
    }
  ]
}