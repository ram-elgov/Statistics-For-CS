{
  "nbformat": 4,
  "nbformat_minor": 0,
  "metadata": {
    "colab": {
      "provenance": [],
      "include_colab_link": true
    },
    "kernelspec": {
      "name": "python3",
      "display_name": "Python 3"
    },
    "language_info": {
      "name": "python"
    }
  },
  "cells": [
    {
      "cell_type": "markdown",
      "metadata": {
        "id": "view-in-github",
        "colab_type": "text"
      },
      "source": [
        "<a href=\"https://colab.research.google.com/github/ram-elgov/Statistics-For-CS/blob/main/Assignment_3.ipynb\" target=\"_parent\"><img src=\"https://colab.research.google.com/assets/colab-badge.svg\" alt=\"Open In Colab\"/></a>"
      ]
    },
    {
      "cell_type": "code",
      "execution_count": null,
      "metadata": {
        "id": "0oYoDS7-TsZk"
      },
      "outputs": [],
      "source": [
        "import numpy as np\n",
        "from scipy import stats"
      ]
    },
    {
      "cell_type": "code",
      "source": [
        "vals = np.array([100 , 84,88 , 96 , 0 , 69 , 38 , 92])\n",
        "print(f\"Mean: {np.mean(vals)}\")\n",
        "print(f\"Trimmed mean (α=0.2): {stats.trim_mean(vals, 0.2)}\")\n",
        "print(f\"Median: {np.median(vals)}\")\n",
        "print(f\"65 percentile: {np.percentile(vals, 65)}\")"
      ],
      "metadata": {
        "colab": {
          "base_uri": "https://localhost:8080/"
        },
        "id": "UUU1dCV0WpAn",
        "outputId": "42445ec9-1260-4f63-f27f-685b71f9d41b"
      },
      "execution_count": null,
      "outputs": [
        {
          "output_type": "stream",
          "name": "stdout",
          "text": [
            "Mean: 70.875\n",
            "Trimmed mean (α=0.2): 77.83333333333333\n",
            "Median: 86.0\n",
            "65 percentile: 90.2\n"
          ]
        }
      ]
    },
    {
      "cell_type": "code",
      "source": [
        "poi_rv = stats.poisson(20)\n",
        "geo_rv = stats.geom(poi_rv.cdf(16))\n",
        "\n",
        "print(f\"1. {poi_rv.ppf(0.9)}\")\n",
        "print(f\"2. {poi_rv.isf(0.9)}\")\n",
        "print(f\"3. {poi_rv.ppf(0.75) - poi_rv.ppf(0.25)}\")\n",
        "print(f\"4. {poi_rv.cdf(16):0.2f}\")\n",
        "print(f\"5. {geo_rv.mean():0.2f}\")\n",
        "print(f\"6. {geo_rv.ppf(0.75)}\")"
      ],
      "metadata": {
        "id": "zciBhK5Zecr6",
        "colab": {
          "base_uri": "https://localhost:8080/"
        },
        "outputId": "91fe8832-4a23-4139-a80f-2aa8e4ecfb4c"
      },
      "execution_count": null,
      "outputs": [
        {
          "output_type": "stream",
          "name": "stdout",
          "text": [
            "1. 26.0\n",
            "2. 14.0\n",
            "3. 6.0\n",
            "4. 0.22\n",
            "5. 4.52\n",
            "6. 6.0\n"
          ]
        }
      ]
    }
  ]
}