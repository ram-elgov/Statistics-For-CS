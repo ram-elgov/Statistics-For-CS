{
  "nbformat": 4,
  "nbformat_minor": 0,
  "metadata": {
    "colab": {
      "provenance": [],
      "include_colab_link": true
    },
    "kernelspec": {
      "name": "python3",
      "display_name": "Python 3"
    },
    "language_info": {
      "name": "python"
    }
  },
  "cells": [
    {
      "cell_type": "markdown",
      "metadata": {
        "id": "view-in-github",
        "colab_type": "text"
      },
      "source": [
        "<a href=\"https://colab.research.google.com/github/ram-elgov/Statistics-For-CS/blob/main/Assignment_3.ipynb\" target=\"_parent\"><img src=\"https://colab.research.google.com/assets/colab-badge.svg\" alt=\"Open In Colab\"/></a>"
      ]
    },
    {
      "cell_type": "code",
      "execution_count": 1,
      "metadata": {
        "id": "0oYoDS7-TsZk"
      },
      "outputs": [],
      "source": [
        "import numpy as np\n",
        "from scipy import stats"
      ]
    },
    {
      "cell_type": "code",
      "source": [
        "vals = np.array([100 , 84,88 , 96 , 0 , 69 , 38 , 92])\n",
        "print(f\"Mean: {np.mean(vals)}\")\n",
        "print(f\"Trimmed mean (α=0.2): {stats.trim_mean(vals, 0.2)}\")\n",
        "print(f\"Median: {np.median(vals)}\")\n",
        "print(f\"65 percentile: {np.percentile(vals, 65)}\")"
      ],
      "metadata": {
        "colab": {
          "base_uri": "https://localhost:8080/"
        },
        "id": "UUU1dCV0WpAn",
        "outputId": "a7bd497b-2ab7-4ca0-bfb0-3f388b2ffb51"
      },
      "execution_count": 2,
      "outputs": [
        {
          "output_type": "stream",
          "name": "stdout",
          "text": [
            "Mean: 70.875\n",
            "Trimmed mean (α=0.2): 77.83333333333333\n",
            "Median: 86.0\n",
            "65 percentile: 90.2\n"
          ]
        }
      ]
    },
    {
      "cell_type": "code",
      "source": [
        "poi_rv = stats.poisson(20)\n",
        "geo_rv = stats.geom(poi_rv.cdf(16))\n",
        "\n",
        "print(f\"1. {poi_rv.ppf(0.9)}\")\n",
        "# print(f\"2. {poi_rv.ppf(0.1)}\")\n",
        "print(f\"2. {poi_rv.isf(0.9)}\")\n",
        "print(f\"3. {poi_rv.ppf(0.75) - poi_rv.ppf(0.25)}\")\n",
        "print(f\"4. {poi_rv.cdf(16):0.2f}\")\n",
        "print(f\"5. {geo_rv.mean():0.2f}\")\n",
        "# print(f\"5. {1 / poi_rv.cdf(16):0.2f}\")\n",
        "print(f\"6. {geo_rv.ppf(0.75)}\")"
      ],
      "metadata": {
        "id": "zciBhK5Zecr6",
        "colab": {
          "base_uri": "https://localhost:8080/"
        },
        "outputId": "5dfbaa30-8d02-4305-de41-25ad19255228"
      },
      "execution_count": 4,
      "outputs": [
        {
          "output_type": "stream",
          "name": "stdout",
          "text": [
            "1. 26.0\n",
            "2. 14.0\n",
            "3. 6.0\n",
            "4. 0.22\n",
            "5. 4.52\n",
            "5. 4.52\n",
            "6. 6.0\n"
          ]
        }
      ]
    }
  ]
}