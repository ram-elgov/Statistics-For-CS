{
  "nbformat": 4,
  "nbformat_minor": 0,
  "metadata": {
    "colab": {
      "provenance": [],
      "include_colab_link": true
    },
    "kernelspec": {
      "name": "python3",
      "display_name": "Python 3"
    },
    "language_info": {
      "name": "python"
    }
  },
  "cells": [
    {
      "cell_type": "markdown",
      "metadata": {
        "id": "view-in-github",
        "colab_type": "text"
      },
      "source": [
        "<a href=\"https://colab.research.google.com/github/ram-elgov/Statistics-For-CS/blob/main/Assignment_4.ipynb\" target=\"_parent\"><img src=\"https://colab.research.google.com/assets/colab-badge.svg\" alt=\"Open In Colab\"/></a>"
      ]
    },
    {
      "cell_type": "markdown",
      "source": [
        "# Problem 1"
      ],
      "metadata": {
        "id": "93Ro7odpGjAf"
      }
    },
    {
      "cell_type": "code",
      "execution_count": null,
      "metadata": {
        "id": "SNJ1qaO-tIVj"
      },
      "outputs": [],
      "source": [
        "import matplotlib.pyplot as plt\n",
        "import numpy as np\n",
        "import pandas as pd\n",
        "\n",
        "from sklearn.linear_model import LinearRegression\n",
        "from scipy.stats import norm"
      ]
    },
    {
      "cell_type": "code",
      "source": [
        "df = pd.read_csv(\"heights.csv\")\n",
        "df.plot.scatter(\"HEIGHT\", \"WEIGHT\")"
      ],
      "metadata": {
        "colab": {
          "base_uri": "https://localhost:8080/",
          "height": 297
        },
        "id": "FGx3n7Wntjr9",
        "outputId": "89ae5ad6-a39c-43fc-86bf-1834db2500f0"
      },
      "execution_count": null,
      "outputs": [
        {
          "output_type": "execute_result",
          "data": {
            "text/plain": [
              "<matplotlib.axes._subplots.AxesSubplot at 0x7f8be8eb3a10>"
            ]
          },
          "metadata": {},
          "execution_count": 134
        },
        {
          "output_type": "display_data",
          "data": {
            "text/plain": [
              "<Figure size 432x288 with 1 Axes>"
            ],
            "image/png": "[encoded data removed]"
          },
          "metadata": {
            "needs_background": "light"
          }
        }
      ]
    },
    {
      "cell_type": "code",
      "source": [
        "df.plot.scatter(\"HEIGHT\", \"WEIGHT\")\n",
        "\n",
        "heights, weights = df[\"HEIGHT\"].values, df[\"WEIGHT\"].values\n",
        "heights_2d = heights.reshape(-1, 1)\n",
        "\n",
        "# Least squares line (blue)\n",
        "reg = LinearRegression()\n",
        "reg.fit(heights_2d, weights)\n",
        "predicted_weights_rss = reg.predict(heights_2d)\n",
        "plt.plot(heights, predicted_weights_rss, color=\"blue\")\n",
        "\n",
        "\n",
        "# Resistant line (red)\n",
        "x_h, x_l = np.quantile(heights, 5/6), np.quantile(heights, 1/6)\n",
        "y_h, y_l = np.quantile(weights, 5/6), np.quantile(weights, 1/6)\n",
        "slope_rl = (y_h - y_l) / (x_h - x_l)\n",
        "a_rl = np.median([weight - slope_rl * height for weight, height in df.values])\n",
        "predicted_weights_rl = [a_rl + slope_rl * height for height in heights]\n",
        "plt.plot(heights, predicted_weights_rl, color=\"red\")"
      ],
      "metadata": {
        "colab": {
          "base_uri": "https://localhost:8080/",
          "height": 297
        },
        "id": "5Ofhy6-i5goH",
        "outputId": "72b83f6c-5455-4302-d35e-1df751064bc2"
      },
      "execution_count": null,
      "outputs": [
        {
          "output_type": "execute_result",
          "data": {
            "text/plain": [
              "[<matplotlib.lines.Line2D at 0x7f8be8df5290>]"
            ]
          },
          "metadata": {},
          "execution_count": 135
        },
        {
          "output_type": "display_data",
          "data": {
            "text/plain": [
              "<Figure size 432x288 with 1 Axes>"
            ],
            "image/png": "[encoded data removed]"
          },
          "metadata": {
            "needs_background": "light"
          }
        }
      ]
    },
    {
      "cell_type": "code",
      "source": [
        "print(f\"RSS line slope: {reg.coef_[0]:.3f}\")\n",
        "print(f\"RSS score: {reg.score(heights_2d, weights):.3f}\")\n",
        "print(f\"Pearson score: {np.corrcoef(heights, weights)[0][1]:.3f}\")"
      ],
      "metadata": {
        "colab": {
          "base_uri": "https://localhost:8080/"
        },
        "id": "B4C9QHkC5Sgp",
        "outputId": "5955d733-f881-4ae1-edde-ee5cc741222b"
      },
      "execution_count": null,
      "outputs": [
        {
          "output_type": "stream",
          "name": "stdout",
          "text": [
            "RSS line slope: 0.002\n",
            "RSS score: 0.012\n",
            "Pearson score: 0.112\n"
          ]
        }
      ]
    },
    {
      "cell_type": "markdown",
      "source": [
        "Now we will remove the exceptional observation."
      ],
      "metadata": {
        "id": "4VVH74rJCQ1t"
      }
    },
    {
      "cell_type": "code",
      "source": [
        "df = df[df[\"HEIGHT\"] < 1000]\n",
        "df.plot.scatter(\"HEIGHT\", \"WEIGHT\")"
      ],
      "metadata": {
        "colab": {
          "base_uri": "https://localhost:8080/",
          "height": 297
        },
        "id": "ergT4Bp3Chem",
        "outputId": "07dc9459-7717-41ae-de28-4865f39d07ae"
      },
      "execution_count": null,
      "outputs": [
        {
          "output_type": "execute_result",
          "data": {
            "text/plain": [
              "<matplotlib.axes._subplots.AxesSubplot at 0x7f8be8d8a350>"
            ]
          },
          "metadata": {},
          "execution_count": 139
        },
        {
          "output_type": "display_data",
          "data": {
            "text/plain": [
              "<Figure size 432x288 with 1 Axes>"
            ],
            "image/png": "[encoded data removed]"
          },
          "metadata": {
            "needs_background": "light"
          }
        }
      ]
    },
    {
      "cell_type": "code",
      "source": [
        "df.plot.scatter(\"HEIGHT\", \"WEIGHT\")\n",
        "\n",
        "heights, weights = df[\"HEIGHT\"].values, df[\"WEIGHT\"].values\n",
        "heights_2d = heights.reshape(-1, 1)\n",
        "\n",
        "# Least squares line (blue)\n",
        "reg = LinearRegression()\n",
        "reg.fit(heights_2d, weights)\n",
        "predicted_weights_rss = reg.predict(heights_2d)\n",
        "plt.plot(heights, predicted_weights_rss, color=\"blue\")\n",
        "\n",
        "# Resistant line (red)\n",
        "x_h, x_l = np.quantile(heights, 5/6), np.quantile(heights, 1/6)\n",
        "y_h, y_l = np.quantile(weights, 5/6), np.quantile(weights, 1/6)\n",
        "slope_rl = (y_h - y_l) / (x_h - x_l)\n",
        "a_rl = np.median([weight - slope_rl * height for weight, height in df.values])\n",
        "predicted_weights_rl = [a_rl + slope_rl * height for height in heights]\n",
        "plt.plot(heights, predicted_weights_rl, color=\"red\")"
      ],
      "metadata": {
        "colab": {
          "base_uri": "https://localhost:8080/",
          "height": 297
        },
        "id": "EGs1Sme9CwLC",
        "outputId": "adb2d99d-ae68-442c-a504-d1890cc2935f"
      },
      "execution_count": null,
      "outputs": [
        {
          "output_type": "execute_result",
          "data": {
            "text/plain": [
              "[<matplotlib.lines.Line2D at 0x7f8be8cd1d50>]"
            ]
          },
          "metadata": {},
          "execution_count": 140
        },
        {
          "output_type": "display_data",
          "data": {
            "text/plain": [
              "<Figure size 432x288 with 1 Axes>"
            ],
            "image/png": "[encoded data removed]"
          },
          "metadata": {
            "needs_background": "light"
          }
        }
      ]
    },
    {
      "cell_type": "code",
      "source": [
        "print(f\"RSS line slope: {reg.coef_[0]:.3f}\")\n",
        "print(f\"RSS score: {reg.score(heights_2d, weights):.3f}\")\n",
        "print(f\"Pearson score: {np.corrcoef(heights, weights)[0][1]:.3f}\")"
      ],
      "metadata": {
        "colab": {
          "base_uri": "https://localhost:8080/"
        },
        "id": "7yPEFnAxC6xc",
        "outputId": "f0584ca3-9e5d-43c4-ab62-0264e4f19920"
      },
      "execution_count": null,
      "outputs": [
        {
          "output_type": "stream",
          "name": "stdout",
          "text": [
            "RSS line slope: 0.072\n",
            "RSS score: 0.343\n",
            "Pearson score: 0.586\n"
          ]
        }
      ]
    },
    {
      "cell_type": "markdown",
      "source": [
        "# Problem 2"
      ],
      "metadata": {
        "id": "FLT5iZTYGwV5"
      }
    },
    {
      "cell_type": "code",
      "source": [
        "norm_rv = norm(loc=5.0, scale=1.0)\n",
        "X = norm_rv.rvs(30)\n",
        "Y = 5 * X + 2"
      ],
      "metadata": {
        "id": "mJe4bQTkG13w"
      },
      "execution_count": null,
      "outputs": []
    },
    {
      "cell_type": "code",
      "source": [
        "print(f\"Pearson score: {np.corrcoef(X, Y)[0][1]}\")"
      ],
      "metadata": {
        "colab": {
          "base_uri": "https://localhost:8080/"
        },
        "id": "K4we-wPAISjn",
        "outputId": "07de845a-59e1-4380-9a16-5f436f5a5c8f"
      },
      "execution_count": null,
      "outputs": [
        {
          "output_type": "stream",
          "name": "stdout",
          "text": [
            "Pearson score: 1.0\n"
          ]
        }
      ]
    },
    {
      "cell_type": "code",
      "source": [
        "reg = LinearRegression()\n",
        "reg.fit(X.reshape(-1, 1), Y)\n",
        "print(f\"The slope is: {reg.coef_[0]}\")"
      ],
      "metadata": {
        "colab": {
          "base_uri": "https://localhost:8080/"
        },
        "id": "kjGUDiuxIrKc",
        "outputId": "e1cbecd3-8656-4a95-a7f6-030cfd4a69bd"
      },
      "execution_count": null,
      "outputs": [
        {
          "output_type": "stream",
          "name": "stdout",
          "text": [
            "The slope is: 5.0\n"
          ]
        }
      ]
    },
    {
      "cell_type": "code",
      "source": [
        "noise = norm.rvs(loc=0, scale=1, size=30)\n",
        "Y = Y + noise\n",
        "\n",
        "reg = LinearRegression()\n",
        "reg.fit(X.reshape(-1, 1), Y)\n",
        "\n",
        "print(f\"Pearson score (noisy vector): {np.corrcoef(X, Y)[0][1]}\")\n",
        "print(f\"The slope is (noisy vector): {reg.coef_[0]}\")"
      ],
      "metadata": {
        "colab": {
          "base_uri": "https://localhost:8080/"
        },
        "id": "M_pi47OSJklG",
        "outputId": "efd98e00-d2f7-4bab-daa9-319f2cdb88a1"
      },
      "execution_count": null,
      "outputs": [
        {
          "output_type": "stream",
          "name": "stdout",
          "text": [
            "Pearson score (noisy vector): 0.9471763624985441\n",
            "The slope is (noisy vector): 4.90311629532539\n"
          ]
        }
      ]
    },
    {
      "cell_type": "code",
      "source": [
        "X = norm_rv.rvs(30)\n",
        "\n",
        "scales_vec = np.linspace(start=0.5, stop=10, num=50)\n",
        "slopes, pearson_scores = [], []\n",
        "\n",
        "for scale in scales_vec:\n",
        "  Y = 5 * X + 2 + norm.rvs(loc=0, scale=scale, size=30)\n",
        "\n",
        "  reg = LinearRegression()\n",
        "  reg.fit(X.reshape(-1, 1), Y)\n",
        "  slopes.append(reg.coef_[0])\n",
        "  pearson_scores.append(np.corrcoef(X, Y)[0][1])\n",
        "\n",
        "plt.xlabel(\"SD\")\n",
        "plt.ylabel(\"Pearson score\")\n",
        "plt.scatter(scales_vec, pearson_scores)"
      ],
      "metadata": {
        "colab": {
          "base_uri": "https://localhost:8080/",
          "height": 297
        },
        "id": "SyLlebhiKSjs",
        "outputId": "58ed8268-9c30-49ae-dbfe-76038c519822"
      },
      "execution_count": null,
      "outputs": [
        {
          "output_type": "execute_result",
          "data": {
            "text/plain": [
              "<matplotlib.collections.PathCollection at 0x7f8be7b16b10>"
            ]
          },
          "metadata": {},
          "execution_count": 206
        },
        {
          "output_type": "display_data",
          "data": {
            "text/plain": [
              "<Figure size 432x288 with 1 Axes>"
            ],
            "image/png": "[encoded data removed]"
          },
          "metadata": {
            "needs_background": "light"
          }
        }
      ]
    },
    {
      "cell_type": "code",
      "source": [
        "plt.xlabel(\"SD\")\n",
        "plt.ylabel(\"Slope\")\n",
        "plt.scatter(scales_vec, slopes, color=\"orange\")"
      ],
      "metadata": {
        "colab": {
          "base_uri": "https://localhost:8080/",
          "height": 297
        },
        "id": "kkZmxrdXNXF6",
        "outputId": "142d0a58-2a1a-465c-9d4d-5ef58c56d3d6"
      },
      "execution_count": null,
      "outputs": [
        {
          "output_type": "execute_result",
          "data": {
            "text/plain": [
              "<matplotlib.collections.PathCollection at 0x7f8be7b04210>"
            ]
          },
          "metadata": {},
          "execution_count": 207
        },
        {
          "output_type": "display_data",
          "data": {
            "text/plain": [
              "<Figure size 432x288 with 1 Axes>"
            ],
            "image/png": "[encoded data removed]"
          },
          "metadata": {
            "needs_background": "light"
          }
        }
      ]
    }
  ]
}