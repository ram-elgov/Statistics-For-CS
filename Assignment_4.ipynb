{
  "nbformat": 4,
  "nbformat_minor": 0,
  "metadata": {
    "colab": {
      "provenance": [],
      "include_colab_link": true
    },
    "kernelspec": {
      "name": "python3",
      "display_name": "Python 3"
    },
    "language_info": {
      "name": "python"
    }
  },
  "cells": [
    {
      "cell_type": "markdown",
      "metadata": {
        "id": "view-in-github",
        "colab_type": "text"
      },
      "source": [
        "<a href=\"https://colab.research.google.com/github/ram-elgov/Statistics-For-CS/blob/main/Assignment_4.ipynb\" target=\"_parent\"><img src=\"https://colab.research.google.com/assets/colab-badge.svg\" alt=\"Open In Colab\"/></a>"
      ]
    },
    {
      "cell_type": "markdown",
      "source": [
        "# Problem 1"
      ],
      "metadata": {
        "id": "93Ro7odpGjAf"
      }
    },
    {
      "cell_type": "code",
      "execution_count": 3,
      "metadata": {
        "id": "SNJ1qaO-tIVj"
      },
      "outputs": [],
      "source": [
        "import matplotlib.pyplot as plt\n",
        "import numpy as np\n",
        "import pandas as pd\n",
        "\n",
        "from sklearn.linear_model import LinearRegression\n",
        "from scipy.stats import norm"
      ]
    },
    {
      "cell_type": "code",
      "source": [
        "df = pd.read_csv(\"heights.csv\")\n",
        "df.plot.scatter(\"HEIGHT\", \"WEIGHT\")"
      ],
      "metadata": {
        "colab": {
          "base_uri": "https://localhost:8080/",
          "height": 296
        },
        "id": "FGx3n7Wntjr9",
        "outputId": "a4e38c55-9ca7-4ca0-dbf2-f113f68ae24b"
      },
      "execution_count": 4,
      "outputs": [
        {
          "output_type": "execute_result",
          "data": {
            "text/plain": [
              "<matplotlib.axes._subplots.AxesSubplot at 0x7f75bd6eaf10>"
            ]
          },
          "metadata": {},
          "execution_count": 4
        },
        {
          "output_type": "display_data",
          "data": {
            "text/plain": [
              "<Figure size 432x288 with 1 Axes>"
            ],
            "image/png": "[encoded data removed]"
          },
          "metadata": {
            "needs_background": "light"
          }
        }
      ]
    },
    {
      "cell_type": "code",
      "source": [
        "df.plot.scatter(\"HEIGHT\", \"WEIGHT\")\n",
        "\n",
        "heights, weights = df[\"HEIGHT\"].values, df[\"WEIGHT\"].values\n",
        "heights_2d = heights.reshape(-1, 1)\n",
        "\n",
        "# Least squares line (blue)\n",
        "reg = LinearRegression()\n",
        "reg.fit(heights_2d, weights)\n",
        "predicted_weights_rss = reg.predict(heights_2d)\n",
        "plt.plot(heights, predicted_weights_rss, color=\"blue\")\n",
        "\n",
        "\n",
        "# Resistant line (red)\n",
        "x_h, x_l = np.quantile(heights, 5/6), np.quantile(heights, 1/6)\n",
        "y_h, y_l = np.quantile(weights, 5/6), np.quantile(weights, 1/6)\n",
        "slope_rl = (y_h - y_l) / (x_h - x_l)\n",
        "a_rl = np.median([weight - slope_rl * height for weight, height in df.values])\n",
        "predicted_weights_rl = [a_rl + slope_rl * height for height in heights]\n",
        "plt.plot(heights, predicted_weights_rl, color=\"red\")"
      ],
      "metadata": {
        "colab": {
          "base_uri": "https://localhost:8080/",
          "height": 296
        },
        "id": "5Ofhy6-i5goH",
        "outputId": "a737f71e-92d9-420d-d880-e801d66fb235"
      },
      "execution_count": 5,
      "outputs": [
        {
          "output_type": "execute_result",
          "data": {
            "text/plain": [
              "[<matplotlib.lines.Line2D at 0x7f75bd17e790>]"
            ]
          },
          "metadata": {},
          "execution_count": 5
        },
        {
          "output_type": "display_data",
          "data": {
            "text/plain": [
              "<Figure size 432x288 with 1 Axes>"
            ],
            "image/png": "[encoded data removed]"
          },
          "metadata": {
            "needs_background": "light"
          }
        }
      ]
    },
    {
      "cell_type": "code",
      "source": [
        "print(f\"RSS line slope: {reg.coef_[0]:.3f}\")\n",
        "print(f\"RSS score: {reg.score(heights_2d, weights):.3f}\")\n",
        "print(f\"Pearson score: {np.corrcoef(heights, weights)[0][1]:.3f}\")"
      ],
      "metadata": {
        "colab": {
          "base_uri": "https://localhost:8080/"
        },
        "id": "B4C9QHkC5Sgp",
        "outputId": "8cca4b90-6899-439d-c37e-0d7465c27e40"
      },
      "execution_count": 6,
      "outputs": [
        {
          "output_type": "stream",
          "name": "stdout",
          "text": [
            "RSS line slope: 0.002\n",
            "RSS score: 0.012\n",
            "Pearson score: 0.112\n"
          ]
        }
      ]
    },
    {
      "cell_type": "markdown",
      "source": [
        "Now we will remove the exceptional observation."
      ],
      "metadata": {
        "id": "4VVH74rJCQ1t"
      }
    },
    {
      "cell_type": "code",
      "source": [
        "df = df[df[\"HEIGHT\"] < 1000]\n",
        "df.plot.scatter(\"HEIGHT\", \"WEIGHT\")"
      ],
      "metadata": {
        "colab": {
          "base_uri": "https://localhost:8080/",
          "height": 296
        },
        "id": "ergT4Bp3Chem",
        "outputId": "c91b85d9-7ad4-4566-c5f6-db654c052a53"
      },
      "execution_count": 7,
      "outputs": [
        {
          "output_type": "execute_result",
          "data": {
            "text/plain": [
              "<matplotlib.axes._subplots.AxesSubplot at 0x7f75bd140990>"
            ]
          },
          "metadata": {},
          "execution_count": 7
        },
        {
          "output_type": "display_data",
          "data": {
            "text/plain": [
              "<Figure size 432x288 with 1 Axes>"
            ],
            "image/png": "[encoded data removed]"
          },
          "metadata": {
            "needs_background": "light"
          }
        }
      ]
    },
    {
      "cell_type": "code",
      "source": [
        "df.plot.scatter(\"HEIGHT\", \"WEIGHT\")\n",
        "\n",
        "heights, weights = df[\"HEIGHT\"].values, df[\"WEIGHT\"].values\n",
        "heights_2d = heights.reshape(-1, 1)\n",
        "\n",
        "# Least squares line (blue)\n",
        "reg = LinearRegression()\n",
        "reg.fit(heights_2d, weights)\n",
        "predicted_weights_rss = reg.predict(heights_2d)\n",
        "plt.plot(heights, predicted_weights_rss, color=\"blue\")\n",
        "\n",
        "# Resistant line (red)\n",
        "x_h, x_l = np.quantile(heights, 5/6), np.quantile(heights, 1/6)\n",
        "y_h, y_l = np.quantile(weights, 5/6), np.quantile(weights, 1/6)\n",
        "slope_rl = (y_h - y_l) / (x_h - x_l)\n",
        "a_rl = np.median([weight - slope_rl * height for weight, height in df.values])\n",
        "predicted_weights_rl = [a_rl + slope_rl * height for height in heights]\n",
        "plt.plot(heights, predicted_weights_rl, color=\"red\")"
      ],
      "metadata": {
        "colab": {
          "base_uri": "https://localhost:8080/",
          "height": 296
        },
        "id": "EGs1Sme9CwLC",
        "outputId": "9b1008c2-e07c-4ad7-ce09-3554aa495a0d"
      },
      "execution_count": 8,
      "outputs": [
        {
          "output_type": "execute_result",
          "data": {
            "text/plain": [
              "[<matplotlib.lines.Line2D at 0x7f75bd08c890>]"
            ]
          },
          "metadata": {},
          "execution_count": 8
        },
        {
          "output_type": "display_data",
          "data": {
            "text/plain": [
              "<Figure size 432x288 with 1 Axes>"
            ],
            "image/png": "[encoded data removed]"
          },
          "metadata": {
            "needs_background": "light"
          }
        }
      ]
    },
    {
      "cell_type": "code",
      "source": [
        "print(f\"RSS line slope: {reg.coef_[0]:.3f}\")\n",
        "print(f\"RSS score: {reg.score(heights_2d, weights):.3f}\")\n",
        "print(f\"Pearson score: {np.corrcoef(heights, weights)[0][1]:.3f}\")"
      ],
      "metadata": {
        "colab": {
          "base_uri": "https://localhost:8080/"
        },
        "id": "7yPEFnAxC6xc",
        "outputId": "7b61c6cf-551b-495f-a9c7-8c3c347c726b"
      },
      "execution_count": 9,
      "outputs": [
        {
          "output_type": "stream",
          "name": "stdout",
          "text": [
            "RSS line slope: 0.072\n",
            "RSS score: 0.343\n",
            "Pearson score: 0.586\n"
          ]
        }
      ]
    },
    {
      "cell_type": "markdown",
      "source": [
        "# Problem 2"
      ],
      "metadata": {
        "id": "FLT5iZTYGwV5"
      }
    },
    {
      "cell_type": "code",
      "source": [
        "norm_rv = norm(loc=5.0, scale=1.0)\n",
        "X = norm_rv.rvs(30)\n",
        "Y = 5 * X + 2"
      ],
      "metadata": {
        "id": "mJe4bQTkG13w"
      },
      "execution_count": 10,
      "outputs": []
    },
    {
      "cell_type": "code",
      "source": [
        "print(f\"Pearson score: {np.corrcoef(X, Y)[0][1]}\")"
      ],
      "metadata": {
        "colab": {
          "base_uri": "https://localhost:8080/"
        },
        "id": "K4we-wPAISjn",
        "outputId": "954d2265-6635-4475-e7d4-8c6e08f712ab"
      },
      "execution_count": 11,
      "outputs": [
        {
          "output_type": "stream",
          "name": "stdout",
          "text": [
            "Pearson score: 1.0\n"
          ]
        }
      ]
    },
    {
      "cell_type": "code",
      "source": [
        "reg = LinearRegression()\n",
        "reg.fit(X.reshape(-1, 1), Y)\n",
        "print(f\"The slope is: {reg.coef_[0]}\")"
      ],
      "metadata": {
        "colab": {
          "base_uri": "https://localhost:8080/"
        },
        "id": "kjGUDiuxIrKc",
        "outputId": "94f3eab2-868a-4a76-fa22-eb624b523d49"
      },
      "execution_count": 12,
      "outputs": [
        {
          "output_type": "stream",
          "name": "stdout",
          "text": [
            "The slope is: 4.999999999999998\n"
          ]
        }
      ]
    },
    {
      "cell_type": "code",
      "source": [
        "noise = norm.rvs(loc=0, scale=1, size=30)\n",
        "Y = Y + noise\n",
        "\n",
        "reg = LinearRegression()\n",
        "reg.fit(X.reshape(-1, 1), Y)\n",
        "\n",
        "print(f\"Pearson score (noisy vector): {np.corrcoef(X, Y)[0][1]}\")\n",
        "print(f\"The slope is (noisy vector): {reg.coef_[0]}\")"
      ],
      "metadata": {
        "colab": {
          "base_uri": "https://localhost:8080/"
        },
        "id": "M_pi47OSJklG",
        "outputId": "a15a88bf-9ff7-48d9-ce0e-5c224152d3a7"
      },
      "execution_count": 13,
      "outputs": [
        {
          "output_type": "stream",
          "name": "stdout",
          "text": [
            "Pearson score (noisy vector): 0.9841828021106798\n",
            "The slope is (noisy vector): 5.173014339413153\n"
          ]
        }
      ]
    },
    {
      "cell_type": "code",
      "source": [
        "X = norm_rv.rvs(30)\n",
        "\n",
        "scales_vec = np.linspace(start=0.5, stop=10, num=50)\n",
        "slopes, pearson_scores = [], []\n",
        "\n",
        "for scale in scales_vec:\n",
        "  Y = 5 * X + 2 + norm.rvs(loc=0, scale=scale, size=30)\n",
        "\n",
        "  reg = LinearRegression()\n",
        "  reg.fit(X.reshape(-1, 1), Y)\n",
        "  slopes.append(reg.coef_[0])\n",
        "  pearson_scores.append(np.corrcoef(X, Y)[0][1])\n",
        "\n",
        "plt.xlabel(\"SD\")\n",
        "plt.ylabel(\"Pearson score\")\n",
        "plt.scatter(scales_vec, pearson_scores)"
      ],
      "metadata": {
        "colab": {
          "base_uri": "https://localhost:8080/",
          "height": 296
        },
        "id": "SyLlebhiKSjs",
        "outputId": "76b6bff8-35de-4337-e564-062967520a3a"
      },
      "execution_count": 14,
      "outputs": [
        {
          "output_type": "execute_result",
          "data": {
            "text/plain": [
              "<matplotlib.collections.PathCollection at 0x7f75bd07c8d0>"
            ]
          },
          "metadata": {},
          "execution_count": 14
        },
        {
          "output_type": "display_data",
          "data": {
            "text/plain": [
              "<Figure size 432x288 with 1 Axes>"
            ],
            "image/png": "[encoded data removed]"
          },
          "metadata": {
            "needs_background": "light"
          }
        }
      ]
    },
    {
      "cell_type": "markdown",
      "source": [
        "#Problem 3"
      ],
      "metadata": {
        "id": "kkZmxrdXNXF6"
      }
    },
    {
      "cell_type": "code",
      "source": [
        "import matplotlib.pyplot as plt\n",
        "from scipy.stats import linregress as lm\n",
        "import pandas as pd"
      ],
      "metadata": {
        "id": "0UXgfT_lXftk"
      },
      "execution_count": 18,
      "outputs": []
    },
    {
      "cell_type": "code",
      "source": [
        "df = pd.DataFrame(pd.read_csv(\"countries.csv\"))\n",
        "\n",
        "income = df[\"income\"]\n",
        "education = df[\"education\"]\n",
        "life_expectancy = df[\"life_expectancy\"]\n",
        "life_income = lm(income, life_expectancy)\n",
        "life_education = lm(education, life_expectancy)\n",
        "print(f\"R-squared for life_income: {life_income.rvalue**2:.6f}\")\n",
        "print(f\"R-squared for life_education: {life_education.rvalue**2:.6f}\")\n",
        "print(\"life_income has greater explained variation whish is not supprising.\")"
      ],
      "metadata": {
        "id": "qNzJTOmSXZl2",
        "outputId": "3df5eaa2-747b-4b5c-d819-0930f1abb797",
        "colab": {
          "base_uri": "https://localhost:8080/"
        }
      },
      "execution_count": 25,
      "outputs": [
        {
          "output_type": "stream",
          "name": "stdout",
          "text": [
            "R-squared for life_income: 0.392822\n",
            "R-squared for life_education: 0.103423\n",
            "life_income has greater explained variation whish is not supprising.\n"
          ]
        }
      ]
    },
    {
      "cell_type": "code",
      "source": [
        "plt.plot(income, life_expectancy, 'o', label='original data')\n",
        "plt.plot(income, life_income.intercept + life_income.slope*income, 'r', label='fitted line')\n",
        "plt.legend()\n",
        "plt.show()"
      ],
      "metadata": {
        "id": "qjdfZt0qaXYE",
        "outputId": "49ff24bd-2812-46f2-9f74-5493309afc9a",
        "colab": {
          "base_uri": "https://localhost:8080/",
          "height": 278
        }
      },
      "execution_count": 26,
      "outputs": [
        {
          "output_type": "display_data",
          "data": {
            "text/plain": [
              "<Figure size 432x288 with 1 Axes>"
            ],
            "image/png": "[encoded data removed]"
          },
          "metadata": {
            "needs_background": "light"
          }
        }
      ]
    },
    {
      "cell_type": "code",
      "source": [
        "plt.plot(education, life_expectancy, 'o', label='original data')\n",
        "plt.plot(education, life_education.intercept + life_education.slope*education, 'r', label='fitted line')\n",
        "plt.legend()\n",
        "plt.show()"
      ],
      "metadata": {
        "id": "aafRKSfnayMt",
        "outputId": "e9e31f7d-840d-4d48-bb63-d0fb714e4c8b",
        "colab": {
          "base_uri": "https://localhost:8080/",
          "height": 265
        }
      },
      "execution_count": 28,
      "outputs": [
        {
          "output_type": "display_data",
          "data": {
            "text/plain": [
              "<Figure size 432x288 with 1 Axes>"
            ],
            "image/png": "[encoded data removed]"
          },
          "metadata": {
            "needs_background": "light"
          }
        }
      ]
    },
    {
      "cell_type": "code",
      "source": [],
      "metadata": {
        "id": "xla-PrUZbItx"
      },
      "execution_count": null,
      "outputs": []
    }
  ]
}