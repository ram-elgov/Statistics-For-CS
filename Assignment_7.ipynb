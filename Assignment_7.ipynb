{
  "nbformat": 4,
  "nbformat_minor": 0,
  "metadata": {
    "colab": {
      "provenance": [],
      "include_colab_link": true
    },
    "kernelspec": {
      "name": "python3",
      "display_name": "Python 3"
    },
    "language_info": {
      "name": "python"
    }
  },
  "cells": [
    {
      "cell_type": "markdown",
      "metadata": {
        "id": "view-in-github",
        "colab_type": "text"
      },
      "source": [
        "<a href=\"https://colab.research.google.com/github/ram-elgov/Statistics-For-CS/blob/main/Assignment_7.ipynb\" target=\"_parent\"><img src=\"https://colab.research.google.com/assets/colab-badge.svg\" alt=\"Open In Colab\"/></a>"
      ]
    },
    {
      "cell_type": "markdown",
      "source": [
        "# Problem 1"
      ],
      "metadata": {
        "id": "J0O63poDapXr"
      }
    },
    {
      "cell_type": "code",
      "source": [
        "import numpy as np\n",
        "import pandas as pd\n",
        "\n",
        "from math import sqrt\n",
        "import matplotlib.pyplot as plt\n",
        "from scipy.stats import norm\n",
        "from seaborn import kdeplot"
      ],
      "metadata": {
        "id": "bAmoM09yas8H"
      },
      "execution_count": 29,
      "outputs": []
    },
    {
      "cell_type": "code",
      "source": [
        "K = 10 ** 4\n",
        "mu = 175\n",
        "sigma = 10\n",
        "\n",
        "norm_rv = norm(loc=mu, scale=sigma)\n",
        "alpha = 0.05\n",
        "sizes = [10, 20, 40, 80]\n",
        "\n",
        "# for n in sizes:\n",
        "#   print(f\"n={n}\")\n",
        "#   samples = np.array([norm_rv.rvs(size=n) for _ in range(K)])\n",
        "#   x_bar = samples.mean()\n",
        "#   epsilon = norm.ppf(1 - alpha / 2) * sigma / sqrt(n)\n",
        "#   ci_low, ci_high = (x_bar - epsilon, x_bar + epsilon)\n",
        "#   ci_length = ci_high - ci_low\n",
        "#   print(f\"CI = ({ci_low:.4f}, {ci_high:.4f}\")\n",
        "#   print(f\"CI Length = {ci_length:.4f}\")\n",
        "#   print(f\"Real µ is in CI: {ci_low <= mu <= ci_high}\")\n",
        "#   print(\n",
        "#       f\"Probability for a new sample to be inside the CI: \"\n",
        "#       f\"{(norm_rv.cdf(ci_high) - norm_rv.cdf(ci_low)):.4f}\"\n",
        "#   )\n",
        "#   print()\n",
        "\n",
        "for n in sizes:\n",
        "  ci_lengths_vector = np.array([])\n",
        "  ci_contains_real_expected_value = np.array([])\n",
        "  probabilities_to_fall_in_ci = np.array([])\n",
        "\n",
        "  for i in range(K):\n",
        "    samples = norm_rv.rvs(size=n)\n",
        "    x_bar = samples.mean()\n",
        "    epsilon = norm.ppf(1 - alpha / 2) * sigma / sqrt(n)\n",
        "    ci_low, ci_high = (x_bar - epsilon, x_bar + epsilon)\n",
        "    ci_length = ci_high - ci_low\n",
        "\n",
        "    ci_lengths_vector = np.append(ci_lengths_vector, ci_length)\n",
        "    ci_contains_real_expected_value = np.append(ci_contains_real_expected_value, ci_low <= mu <= ci_high)\n",
        "    probabilities_to_fall_in_ci = np.append(probabilities_to_fall_in_ci, norm_rv.cdf(ci_high) - norm_rv.cdf(ci_low))\n",
        "  \n",
        "  print(f\"n={n}\")\n",
        "  print(f\"CI length average: {ci_lengths_vector.mean():.4f}\")\n",
        "  print(f\"Std of CI lengths: {ci_lengths_vector.std():.4f}\")\n",
        "  print(f\"Probability of µ to fall in CI: {(np.count_nonzero(ci_contains_real_expected_value) / len(ci_contains_real_expected_value)):.4f}\")\n",
        "  print(f\"Mean probability of random sample to fall in CI: {np.mean(probabilities_to_fall_in_ci):.4f}\")\n",
        "  print()\n"
      ],
      "metadata": {
        "colab": {
          "base_uri": "https://localhost:8080/"
        },
        "id": "MNE9M-K_axDW",
        "outputId": "6db36426-18f0-4d7e-f8f5-60080aae4fd2"
      },
      "execution_count": 30,
      "outputs": [
        {
          "output_type": "stream",
          "name": "stdout",
          "text": [
            "n=10\n",
            "CI length average: 12.3959\n",
            "Std of CI lengths: 0.0000\n",
            "Probability of µ to fall in CI: 0.9493\n",
            "Mean probability of random sample to fall in CI: 0.4453\n",
            "\n",
            "n=20\n",
            "CI length average: 8.7652\n",
            "Std of CI lengths: 0.0000\n",
            "Probability of µ to fall in CI: 0.9506\n",
            "Mean probability of random sample to fall in CI: 0.3312\n",
            "\n",
            "n=40\n",
            "CI length average: 6.1980\n",
            "Std of CI lengths: 0.0000\n",
            "Probability of µ to fall in CI: 0.9486\n",
            "Mean probability of random sample to fall in CI: 0.2405\n",
            "\n",
            "n=80\n",
            "CI length average: 4.3826\n",
            "Std of CI lengths: 0.0000\n",
            "Probability of µ to fall in CI: 0.9516\n",
            "Mean probability of random sample to fall in CI: 0.1724\n",
            "\n"
          ]
        }
      ]
    },
    {
      "cell_type": "code",
      "source": [
        "n = 30\n",
        "alphas = [0.05, 0.1, 0.2]\n",
        "\n",
        "for alpha in alphas:\n",
        "  ci_lengths_vector = np.array([])\n",
        "  ci_contains_real_expected_value = np.array([])\n",
        "  probabilities_to_fall_in_ci = np.array([])\n",
        "\n",
        "  for i in range(K):\n",
        "    samples = norm_rv.rvs(size=n)\n",
        "    x_bar = samples.mean()\n",
        "    epsilon = norm.ppf(1 - alpha / 2) * sigma / sqrt(n)\n",
        "    ci_low, ci_high = (x_bar - epsilon, x_bar + epsilon)\n",
        "    ci_length = ci_high - ci_low\n",
        "\n",
        "    ci_lengths_vector = np.append(ci_lengths_vector, ci_length)\n",
        "    ci_contains_real_expected_value = np.append(ci_contains_real_expected_value, ci_low <= mu <= ci_high)\n",
        "    probabilities_to_fall_in_ci = np.append(probabilities_to_fall_in_ci, norm_rv.cdf(ci_high) - norm_rv.cdf(ci_low))\n",
        "  \n",
        "  print(f\"n={n}\")\n",
        "  print(f\"CI length average: {ci_lengths_vector.mean():.4f}\")\n",
        "  print(f\"Std of CI lengths: {ci_lengths_vector.std():.4f}\")\n",
        "  print(f\"Probability of µ to fall in CI: {(np.count_nonzero(ci_contains_real_expected_value) / len(ci_contains_real_expected_value)):.4f}\")\n",
        "  print(f\"Mean probability of random sample to fall in CI: {np.mean(probabilities_to_fall_in_ci):.4f}\")\n",
        "  print()"
      ],
      "metadata": {
        "colab": {
          "base_uri": "https://localhost:8080/"
        },
        "id": "M2MNs9mrtjqk",
        "outputId": "5a233905-f8db-4f99-b260-66b99fd086f2"
      },
      "execution_count": 31,
      "outputs": [
        {
          "output_type": "stream",
          "name": "stdout",
          "text": [
            "n=30\n",
            "CI length average: 7.1568\n",
            "Std of CI lengths: 0.0000\n",
            "Probability of µ to fall in CI: 0.9529\n",
            "Mean probability of random sample to fall in CI: 0.2752\n",
            "\n",
            "n=30\n",
            "CI length average: 6.0062\n",
            "Std of CI lengths: 0.0000\n",
            "Probability of µ to fall in CI: 0.8998\n",
            "Mean probability of random sample to fall in CI: 0.2323\n",
            "\n",
            "n=30\n",
            "CI length average: 4.6796\n",
            "Std of CI lengths: 0.0000\n",
            "Probability of µ to fall in CI: 0.8062\n",
            "Mean probability of random sample to fall in CI: 0.1821\n",
            "\n"
          ]
        }
      ]
    },
    {
      "cell_type": "markdown",
      "source": [
        "## Problem 3"
      ],
      "metadata": {
        "id": "V4VSUF90W5M7"
      }
    },
    {
      "cell_type": "code",
      "source": [
        "grades = np.array([113, 105, 102, 104, 117, 123, 110, 108, 93, 96, 99, 107, 112, 82, 96])\n",
        "\n",
        "print(f\"µ = {grades.mean():.4f}\")\n",
        "print(f\"σ = {grades.std():.4f}\")"
      ],
      "metadata": {
        "colab": {
          "base_uri": "https://localhost:8080/"
        },
        "id": "xKLGYv6wW6nz",
        "outputId": "078ad7f4-205b-4d7f-a95f-c20a591637c1"
      },
      "execution_count": 32,
      "outputs": [
        {
          "output_type": "stream",
          "name": "stdout",
          "text": [
            "µ = 104.4667\n",
            "σ = 9.9858\n"
          ]
        }
      ]
    },
    {
      "cell_type": "code",
      "source": [
        "kdeplot(grades, label=\"Empirical\")\n",
        "\n",
        "mu, sigma = 100, 10\n",
        "expected_iq_dist = norm(loc=mu, scale=sigma)\n",
        "x = np.linspace(60, 140, 100)\n",
        "y = expected_iq_dist.pdf(x)\n",
        "plt.plot(x, y, label=\"Normal\")\n",
        "plt.legend()\n",
        "plt.show()"
      ],
      "metadata": {
        "colab": {
          "base_uri": "https://localhost:8080/",
          "height": 265
        },
        "id": "MPMLY35JerFC",
        "outputId": "6d56f49a-7250-4e91-ffc6-3808ff55787e"
      },
      "execution_count": 33,
      "outputs": [
        {
          "output_type": "display_data",
          "data": {
            "text/plain": [
              "<Figure size 432x288 with 1 Axes>"
            ],
            "image/png": "[encoded data removed]"
          },
          "metadata": {
            "needs_background": "light"
          }
        }
      ]
    },
    {
      "cell_type": "code",
      "source": [
        "alpha = 0.2\n",
        "epsilon = norm.ppf(1 - alpha / 2) * sigma / sqrt(len(grades))\n",
        "ci_low, ci_high = grades.mean() - epsilon, grades.mean() + epsilon\n",
        "\n",
        "print((ci_low, ci_high))"
      ],
      "metadata": {
        "colab": {
          "base_uri": "https://localhost:8080/"
        },
        "id": "EJvMDDltd_Xw",
        "outputId": "b7c01b98-1f84-4c1f-9702-d113ed0505dd"
      },
      "execution_count": 34,
      "outputs": [
        {
          "output_type": "stream",
          "name": "stdout",
          "text": [
            "(101.15771475289316, 107.77561858044018)\n"
          ]
        }
      ]
    },
    {
      "cell_type": "markdown",
      "source": [
        "## Problem 4"
      ],
      "metadata": {
        "id": "6J6s5toyJAPr"
      }
    },
    {
      "cell_type": "code",
      "source": [
        "# a\n",
        "pd.set_option(\"display.precision\", 4)\n",
        "df12 = pd.DataFrame(pd.read_csv(\"Keshet12.csv\"))\n",
        "df13 = pd.DataFrame(pd.read_csv(\"Reshet13.csv\"))\n",
        "\n",
        "votes_12 = df12.sum()\n",
        "votes_13 = df13.sum()\n",
        "total_votes12 = sum(votes_12)\n",
        "total_votes13 = sum(votes_13)\n",
        "votes_proportion_dist12 = votes_12 / total_votes12\n",
        "votes_proportion_dist13 = votes_13 / total_votes13\n",
        "print(\"The empirical distribution of votes sampled by Keshet 12:\")\n",
        "print(votes_proportion_dist12)\n",
        "print(\"The empirical distribution of votes sampled by Reshet 13:\")\n",
        "print(votes_proportion_dist13)\n",
        "\n"
      ],
      "metadata": {
        "colab": {
          "base_uri": "https://localhost:8080/"
        },
        "id": "MQ8QXeoHJGMZ",
        "outputId": "9f43bde8-8497-413a-a41a-f0e3fcd2c29d"
      },
      "execution_count": 44,
      "outputs": [
        {
          "output_type": "stream",
          "name": "stdout",
          "text": [
            "The empirical distribution of votes sampled by Keshet 12:\n",
            "A    0.0390\n",
            "B    0.0579\n",
            "C    0.0402\n",
            "D    0.0405\n",
            "E    0.0305\n",
            "F    0.0524\n",
            "G    0.0301\n",
            "H    0.0328\n",
            "I    0.2983\n",
            "J    0.0358\n",
            "K    0.0428\n",
            "L    0.0181\n",
            "M    0.2024\n",
            "N    0.0792\n",
            "dtype: float64\n",
            "The empirical distribution of votes sampled by Reshet 13:\n",
            "A    0.0469\n",
            "B    0.0466\n",
            "C    0.0127\n",
            "D    0.0299\n",
            "E    0.0329\n",
            "F    0.0330\n",
            "G    0.0382\n",
            "H    0.0470\n",
            "I    0.2857\n",
            "J    0.0293\n",
            "K    0.0339\n",
            "L    0.0195\n",
            "M    0.2840\n",
            "N    0.0603\n",
            "dtype: float64\n"
          ]
        }
      ]
    },
    {
      "cell_type": "code",
      "source": [
        "# b\n",
        "np.set_printoptions(4)\n",
        "z = norm.ppf(0.975)\n",
        "sigma = 0.5\n",
        "CI_L = lambda x: x - z * (sigma / (total_votes12 ** 0.5))\n",
        "CI_U = lambda x: x + z * (sigma /(total_votes12 ** 0.5))\n",
        "CI_L12 = votes_proportion_dist12.apply(CI_L).to_numpy()\n",
        "CI_U12 = votes_proportion_dist12.apply(CI_U).to_numpy()\n",
        "CI_L13 = votes_proportion_dist13.apply(CI_L).to_numpy()\n",
        "CI_U13 = votes_proportion_dist13.apply(CI_U).to_numpy()\n",
        "print(\"Keshet 12:\")\n",
        "for l,u in zip(CI_L12, CI_U12):\n",
        "  print(f'[{l:.4f},{u:.4}]')\n",
        "\n",
        "print(\"\\nReshet 13:\")\n",
        "for l,u in zip(CI_L13, CI_U13):\n",
        "  print(f'[{l:.4f},{u:.4}]')"
      ],
      "metadata": {
        "colab": {
          "base_uri": "https://localhost:8080/"
        },
        "id": "QBRo5iLtAzpS",
        "outputId": "22f8acbc-3618-47e5-c4e6-ff9c89f6f78d"
      },
      "execution_count": 67,
      "outputs": [
        {
          "output_type": "stream",
          "name": "stdout",
          "text": [
            "Keshet 12:\n",
            "[0.0279,0.05005]\n",
            "[0.0468,0.06902]\n",
            "[0.0291,0.05133]\n",
            "[0.0294,0.05159]\n",
            "[0.0194,0.0416]\n",
            "[0.0413,0.06351]\n",
            "[0.0190,0.04121]\n",
            "[0.0217,0.0439]\n",
            "[0.2873,0.3094]\n",
            "[0.0247,0.04685]\n",
            "[0.0317,0.0539]\n",
            "[0.0070,0.02916]\n",
            "[0.1913,0.2135]\n",
            "[0.0681,0.09029]\n",
            "\n",
            "Reshet 13:\n",
            "[0.0358,0.05797]\n",
            "[0.0355,0.05765]\n",
            "[0.0016,0.02377]\n",
            "[0.0188,0.04103]\n",
            "[0.0218,0.04402]\n",
            "[0.0219,0.04412]\n",
            "[0.0272,0.04934]\n",
            "[0.0359,0.05808]\n",
            "[0.2747,0.2968]\n",
            "[0.0182,0.04039]\n",
            "[0.0228,0.04497]\n",
            "[0.0084,0.03059]\n",
            "[0.2729,0.2951]\n",
            "[0.0492,0.0714]\n"
          ]
        }
      ]
    },
    {
      "cell_type": "code",
      "source": [
        "# c\n",
        "sorted_votes_proportion_12 = pd.Series(pd.Series.sort_values(votes_proportion_dist12))\n",
        "y_vec12 = sorted_votes_proportion_12.to_numpy()\n",
        "sorted_votes_proportion_13 = pd.Series(pd.Series.sort_values(votes_proportion_dist13))\n",
        "y_vec13 = sorted_votes_proportion_13.to_numpy()\n",
        "\n",
        "x_vec = np.linspace(1,14,14, dtype=int) \n",
        "epsilon = 0.2\n",
        "print()\n",
        "CI_L12 = pd.Series(pd.Series.sort_values(votes_proportion_dist12.apply(CI_L)))\n",
        "CI_U12 = pd.Series(pd.Series.sort_values(votes_proportion_dist12.apply(CI_U)))\n",
        "CI_L13 = pd.Series(pd.Series.sort_values(votes_proportion_dist13.apply(CI_L)))\n",
        "CI_U13 = pd.Series(pd.Series.sort_values(votes_proportion_dist13.apply(CI_U).to_numpy()))"
      ],
      "metadata": {
        "colab": {
          "base_uri": "https://localhost:8080/",
          "height": 397
        },
        "id": "h_73hU4vZi0w",
        "outputId": "734b43ea-7d74-4e32-be0c-4b648003c472"
      },
      "execution_count": 68,
      "outputs": [
        {
          "output_type": "error",
          "ename": "AttributeError",
          "evalue": "ignored",
          "traceback": [
            "\u001b[0;31m---------------------------------------------------------------------------\u001b[0m",
            "\u001b[0;31mAttributeError\u001b[0m                            Traceback (most recent call last)",
            "\u001b[0;32m<ipython-input-68-1278a633f9d7>\u001b[0m in \u001b[0;36m<module>\u001b[0;34m\u001b[0m\n\u001b[1;32m      7\u001b[0m \u001b[0mx_vec\u001b[0m \u001b[0;34m=\u001b[0m \u001b[0mnp\u001b[0m\u001b[0;34m.\u001b[0m\u001b[0mlinspace\u001b[0m\u001b[0;34m(\u001b[0m\u001b[0;36m1\u001b[0m\u001b[0;34m,\u001b[0m\u001b[0;36m14\u001b[0m\u001b[0;34m,\u001b[0m\u001b[0;36m14\u001b[0m\u001b[0;34m,\u001b[0m \u001b[0mdtype\u001b[0m\u001b[0;34m=\u001b[0m\u001b[0mint\u001b[0m\u001b[0;34m)\u001b[0m\u001b[0;34m\u001b[0m\u001b[0;34m\u001b[0m\u001b[0m\n\u001b[1;32m      8\u001b[0m \u001b[0mepsilon\u001b[0m \u001b[0;34m=\u001b[0m \u001b[0;36m0.2\u001b[0m\u001b[0;34m\u001b[0m\u001b[0;34m\u001b[0m\u001b[0m\n\u001b[0;32m----> 9\u001b[0;31m \u001b[0mCI_L12\u001b[0m \u001b[0;34m=\u001b[0m \u001b[0mpd\u001b[0m\u001b[0;34m.\u001b[0m\u001b[0mSeries\u001b[0m\u001b[0;34m(\u001b[0m\u001b[0mpd\u001b[0m\u001b[0;34m.\u001b[0m\u001b[0mSeries\u001b[0m\u001b[0;34m.\u001b[0m\u001b[0msort_values\u001b[0m\u001b[0;34m(\u001b[0m\u001b[0mvotes_proportion_dist12\u001b[0m\u001b[0;34m.\u001b[0m\u001b[0mapply\u001b[0m\u001b[0;34m(\u001b[0m\u001b[0mCI_L\u001b[0m\u001b[0;34m)\u001b[0m\u001b[0;34m.\u001b[0m\u001b[0mto_numpy\u001b[0m\u001b[0;34m(\u001b[0m\u001b[0;34m)\u001b[0m\u001b[0;34m)\u001b[0m\u001b[0;34m)\u001b[0m\u001b[0;34m\u001b[0m\u001b[0;34m\u001b[0m\u001b[0m\n\u001b[0m\u001b[1;32m     10\u001b[0m \u001b[0mCI_U12\u001b[0m \u001b[0;34m=\u001b[0m \u001b[0mpd\u001b[0m\u001b[0;34m.\u001b[0m\u001b[0mSeries\u001b[0m\u001b[0;34m(\u001b[0m\u001b[0mpd\u001b[0m\u001b[0;34m.\u001b[0m\u001b[0mSeries\u001b[0m\u001b[0;34m.\u001b[0m\u001b[0msort_values\u001b[0m\u001b[0;34m(\u001b[0m\u001b[0mvotes_proportion_dist12\u001b[0m\u001b[0;34m.\u001b[0m\u001b[0mapply\u001b[0m\u001b[0;34m(\u001b[0m\u001b[0mCI_U\u001b[0m\u001b[0;34m)\u001b[0m\u001b[0;34m.\u001b[0m\u001b[0mto_numpy\u001b[0m\u001b[0;34m(\u001b[0m\u001b[0;34m)\u001b[0m\u001b[0;34m)\u001b[0m\u001b[0;34m)\u001b[0m\u001b[0;34m\u001b[0m\u001b[0;34m\u001b[0m\u001b[0m\n\u001b[1;32m     11\u001b[0m \u001b[0mCI_L13\u001b[0m \u001b[0;34m=\u001b[0m \u001b[0mpd\u001b[0m\u001b[0;34m.\u001b[0m\u001b[0mSeries\u001b[0m\u001b[0;34m(\u001b[0m\u001b[0mpd\u001b[0m\u001b[0;34m.\u001b[0m\u001b[0mSeries\u001b[0m\u001b[0;34m.\u001b[0m\u001b[0msort_values\u001b[0m\u001b[0;34m(\u001b[0m\u001b[0mvotes_proportion_dist13\u001b[0m\u001b[0;34m.\u001b[0m\u001b[0mapply\u001b[0m\u001b[0;34m(\u001b[0m\u001b[0mCI_L\u001b[0m\u001b[0;34m)\u001b[0m\u001b[0;34m.\u001b[0m\u001b[0mto_numpy\u001b[0m\u001b[0;34m(\u001b[0m\u001b[0;34m)\u001b[0m\u001b[0;34m)\u001b[0m\u001b[0;34m)\u001b[0m\u001b[0;34m\u001b[0m\u001b[0;34m\u001b[0m\u001b[0m\n",
            "\u001b[0;32m/usr/local/lib/python3.8/dist-packages/pandas/util/_decorators.py\u001b[0m in \u001b[0;36mwrapper\u001b[0;34m(*args, **kwargs)\u001b[0m\n\u001b[1;32m    309\u001b[0m                     \u001b[0mstacklevel\u001b[0m\u001b[0;34m=\u001b[0m\u001b[0mstacklevel\u001b[0m\u001b[0;34m,\u001b[0m\u001b[0;34m\u001b[0m\u001b[0;34m\u001b[0m\u001b[0m\n\u001b[1;32m    310\u001b[0m                 )\n\u001b[0;32m--> 311\u001b[0;31m             \u001b[0;32mreturn\u001b[0m \u001b[0mfunc\u001b[0m\u001b[0;34m(\u001b[0m\u001b[0;34m*\u001b[0m\u001b[0margs\u001b[0m\u001b[0;34m,\u001b[0m \u001b[0;34m**\u001b[0m\u001b[0mkwargs\u001b[0m\u001b[0;34m)\u001b[0m\u001b[0;34m\u001b[0m\u001b[0;34m\u001b[0m\u001b[0m\n\u001b[0m\u001b[1;32m    312\u001b[0m \u001b[0;34m\u001b[0m\u001b[0m\n\u001b[1;32m    313\u001b[0m         \u001b[0;32mreturn\u001b[0m \u001b[0mwrapper\u001b[0m\u001b[0;34m\u001b[0m\u001b[0;34m\u001b[0m\u001b[0m\n",
            "\u001b[0;32m/usr/local/lib/python3.8/dist-packages/pandas/core/series.py\u001b[0m in \u001b[0;36msort_values\u001b[0;34m(self, axis, ascending, inplace, kind, na_position, ignore_index, key)\u001b[0m\n\u001b[1;32m   3428\u001b[0m         \u001b[0minplace\u001b[0m \u001b[0;34m=\u001b[0m \u001b[0mvalidate_bool_kwarg\u001b[0m\u001b[0;34m(\u001b[0m\u001b[0minplace\u001b[0m\u001b[0;34m,\u001b[0m \u001b[0;34m\"inplace\"\u001b[0m\u001b[0;34m)\u001b[0m\u001b[0;34m\u001b[0m\u001b[0;34m\u001b[0m\u001b[0m\n\u001b[1;32m   3429\u001b[0m         \u001b[0;31m# Validate the axis parameter\u001b[0m\u001b[0;34m\u001b[0m\u001b[0;34m\u001b[0m\u001b[0;34m\u001b[0m\u001b[0m\n\u001b[0;32m-> 3430\u001b[0;31m         \u001b[0mself\u001b[0m\u001b[0;34m.\u001b[0m\u001b[0m_get_axis_number\u001b[0m\u001b[0;34m(\u001b[0m\u001b[0maxis\u001b[0m\u001b[0;34m)\u001b[0m\u001b[0;34m\u001b[0m\u001b[0;34m\u001b[0m\u001b[0m\n\u001b[0m\u001b[1;32m   3431\u001b[0m \u001b[0;34m\u001b[0m\u001b[0m\n\u001b[1;32m   3432\u001b[0m         \u001b[0;31m# GH 5856/5853\u001b[0m\u001b[0;34m\u001b[0m\u001b[0;34m\u001b[0m\u001b[0;34m\u001b[0m\u001b[0m\n",
            "\u001b[0;31mAttributeError\u001b[0m: 'numpy.ndarray' object has no attribute '_get_axis_number'"
          ]
        }
      ]
    },
    {
      "cell_type": "code",
      "source": [
        "# candle plot for Keshet 12:\n",
        "plt.figure(figsize=(10,10)) # sets size of the plot\n",
        "plt.scatter(x=x_vec ,y=y_vec12,s=100,zorder=10) # scatter plot (dots)\n",
        "\n",
        "plt.scatter(x=x_vec, y=y_vec12-epsilon, color='black', marker=\"_\", s=100) # scatter plot (\"_\" mark)\n",
        "plt.scatter(x=x_vec, y=y_vec12+epsilon, color='black', marker=\"_\", s=100) # scatter plot (\"_\" line)\n",
        "plt.vlines(x=x_vec, ymin=y_vec12-epsilon, ymax=y_vec12+epsilon, colors='black', ls='-', lw=2) # scatter plot (line between ymin to y max)\n",
        "\n",
        "plt.show()"
      ],
      "metadata": {
        "id": "X9zgjftvKg0E",
        "colab": {
          "base_uri": "https://localhost:8080/",
          "height": 592
        },
        "outputId": "507bc130-98df-47b6-e361-9817f24f3b77"
      },
      "execution_count": 66,
      "outputs": [
        {
          "output_type": "display_data",
          "data": {
            "text/plain": [
              "<Figure size 720x720 with 1 Axes>"
            ],
            "image/png": "[encoded data removed]"
          },
          "metadata": {
            "needs_background": "light"
          }
        }
      ]
    },
    {
      "cell_type": "code",
      "source": [
        "# candle plot for Keshet 13:\n",
        "x_vec = np.linspace(1,14,14, dtype=int) \n",
        "epsilon = 0.2\n",
        "\n",
        "plt.figure(figsize=(10,10)) # sets size of the plot\n",
        "plt.scatter(x=x_vec ,y=y_vec13,s=100,zorder=10) # scatter plot (dots)\n",
        "\n",
        "# plt.scatter(x=x_vec, y=y_vec-epsilon, color='black', marker=\"_\", s=100) # scatter plot (\"_\" mark)\n",
        "# plt.scatter(x=x_vec, y=y_vec+epsilon, color='black', marker=\"_\", s=100) # scatter plot (\"_\" line)\n",
        "# plt.vlines(x=x_vec, ymin=y_vec-epsilon, ymax=y_vec+epsilon, colors='black', ls='-', lw=2) # scatter plot (line between ymin to y max)\n",
        "\n",
        "plt.show()"
      ],
      "metadata": {
        "colab": {
          "base_uri": "https://localhost:8080/",
          "height": 592
        },
        "id": "SjiGfvRPJGi3",
        "outputId": "8a906d48-3a56-4058-ad70-def94606dd7d"
      },
      "execution_count": 64,
      "outputs": [
        {
          "output_type": "display_data",
          "data": {
            "text/plain": [
              "<Figure size 720x720 with 1 Axes>"
            ],
            "image/png": "[encoded data removed]"
          },
          "metadata": {
            "needs_background": "light"
          }
        }
      ]
    },
    {
      "cell_type": "code",
      "source": [
        "# d\n",
        "votes_12 = df12.sum()\n",
        "votes_13 = df13.sum()\n",
        "total_votes12 = votes_12[\"I\"] + votes_12[\"M\"]\n",
        "total_votes13 = votes_13[\"I\"] + votes_13[\"M\"]\n",
        "print(\"Keshet 12:\")\n",
        "p_est12 = votes_12[\"I\"] / total_votes12\n",
        "print(f'p(I) = {p_est12:.4f}')\n",
        "print(f'p(M) = {votes_12[\"M\"] / total_votes12:.4f}')\n",
        "print(\"\\nReshet 13:\")\n",
        "p_est13 = votes_13[\"I\"] / total_votes13\n",
        "print(f'p(I) = {p_est13:.4f}')\n",
        "print(f'p(M) = {votes_13[\"M\"] / total_votes13:.4f}')\n"
      ],
      "metadata": {
        "colab": {
          "base_uri": "https://localhost:8080/"
        },
        "id": "qLR1zb3kLmQs",
        "outputId": "e2da8556-06fa-4b3b-c3a4-0a329e40b2cc"
      },
      "execution_count": 38,
      "outputs": [
        {
          "output_type": "stream",
          "name": "stdout",
          "text": [
            "Keshet 12:\n",
            "p(I) = 0.5959\n",
            "p(M) = 0.4041\n",
            "\n",
            "Reshet 13:\n",
            "p(I) = 0.5015\n",
            "p(M) = 0.4985\n"
          ]
        }
      ]
    },
    {
      "cell_type": "code",
      "source": [
        "CI_L12_I_M = p_est12 - z * (sigma / (total_votes12 ** 0.5))\n",
        "CI_U12_I_M = p_est12 + z * (sigma / (total_votes12 ** 0.5))\n",
        "print(f\"[{CI_L12_I_M:.4f},{CI_U12_I_M:.4f}]\")"
      ],
      "metadata": {
        "colab": {
          "base_uri": "https://localhost:8080/"
        },
        "id": "mDFdGWJwS3sX",
        "outputId": "c637fd6d-777a-493c-c90a-ca9f335dbd51"
      },
      "execution_count": 39,
      "outputs": [
        {
          "output_type": "stream",
          "name": "stdout",
          "text": [
            "[0.5802,0.6115]\n"
          ]
        }
      ]
    },
    {
      "cell_type": "code",
      "source": [
        "CI_L13_I_M = p_est13 - z * (sigma / (total_votes13 ** 0.5))\n",
        "CI_U13_I_M = p_est13 + z * (sigma / (total_votes13 ** 0.5))\n",
        "print(f\"[{CI_L13_I_M:.4f},{CI_U13_I_M:.4f}]\")"
      ],
      "metadata": {
        "colab": {
          "base_uri": "https://localhost:8080/"
        },
        "id": "whizp-9RYvMW",
        "outputId": "6160fbda-ce0e-4608-d730-3d112d6bb68a"
      },
      "execution_count": 40,
      "outputs": [
        {
          "output_type": "stream",
          "name": "stdout",
          "text": [
            "[0.4881,0.5149]\n"
          ]
        }
      ]
    },
    {
      "cell_type": "code",
      "source": [
        "z = norm.ppf(0.995)\n",
        "print(z)"
      ],
      "metadata": {
        "colab": {
          "base_uri": "https://localhost:8080/"
        },
        "id": "FwtFcO8FZ72b",
        "outputId": "a1d2ba9f-f5c1-410b-b0cb-81352373f0c0"
      },
      "execution_count": 41,
      "outputs": [
        {
          "output_type": "stream",
          "name": "stdout",
          "text": [
            "2.5758293035489004\n"
          ]
        }
      ]
    },
    {
      "cell_type": "code",
      "source": [
        "# e\n",
        "CI_L12_I_M = p_est12 - z * (sigma / (total_votes12 ** 0.5))\n",
        "CI_U12_I_M = p_est12 + z * (sigma / (total_votes12 ** 0.5))\n",
        "print(f\"[{2 * CI_L12_I_M - 1:.4f},{2 * CI_U12_I_M - 1:.4f}]\")"
      ],
      "metadata": {
        "colab": {
          "base_uri": "https://localhost:8080/"
        },
        "id": "ijKVlrWzLmnE",
        "outputId": "6f746fa6-2050-4448-fb17-04479fdd1607"
      },
      "execution_count": 42,
      "outputs": [
        {
          "output_type": "stream",
          "name": "stdout",
          "text": [
            "[0.1505,0.2329]\n"
          ]
        }
      ]
    },
    {
      "cell_type": "code",
      "source": [
        "CI_L13_I_M = p_est13 - z * (sigma / (total_votes13 ** 0.5))\n",
        "CI_U13_I_M = p_est13 + z * (sigma / (total_votes13 ** 0.5))\n",
        "print(f\"[{2 * CI_L13_I_M - 1:.4f},{2 * CI_U13_I_M - 1:.4f}]\")"
      ],
      "metadata": {
        "colab": {
          "base_uri": "https://localhost:8080/"
        },
        "id": "p_ADuxd1Z3dz",
        "outputId": "a9f1ba44-3641-4ae4-9824-dde9a0d0b80d"
      },
      "execution_count": 43,
      "outputs": [
        {
          "output_type": "stream",
          "name": "stdout",
          "text": [
            "[-0.0322,0.0382]\n"
          ]
        }
      ]
    }
  ]
}