{
  "cells": [
    {
      "cell_type": "markdown",
      "metadata": {
        "id": "view-in-github",
        "colab_type": "text"
      },
      "source": [
        "<a href=\"https://colab.research.google.com/github/ram-elgov/Statistics-For-CS/blob/main/Assignment_6.ipynb\" target=\"_parent\"><img src=\"https://colab.research.google.com/assets/colab-badge.svg\" alt=\"Open In Colab\"/></a>"
      ]
    },
    {
      "cell_type": "markdown",
      "metadata": {
        "id": "dwaJtC-pPJMH"
      },
      "source": [
        "# Problem 1\n"
      ]
    },
    {
      "cell_type": "code",
      "execution_count": 34,
      "metadata": {
        "id": "xoDRx9FSMR7E"
      },
      "outputs": [],
      "source": [
        "import matplotlib.pyplot as plt\n",
        "import numpy as np\n",
        "import random\n",
        "from scipy.stats import expon, norm, poisson, uniform\n",
        "from seaborn import kdeplot"
      ]
    },
    {
      "cell_type": "code",
      "execution_count": 2,
      "metadata": {
        "id": "sAj4j4vuHq3G"
      },
      "outputs": [],
      "source": [
        "K = 10 ** 4\n",
        "sample_size = 10\n",
        "bias = lambda estimations, parameter: parameter - np.mean(estimations)\n",
        "var = lambda x: np.var(x, ddof=1)\n",
        "mse = lambda var_mse, bias_mse: var_mse + bias_mse ** 2\n",
        "\n",
        "theta = 5"
      ]
    },
    {
      "cell_type": "markdown",
      "metadata": {
        "id": "WQ4iXhu_IHEI"
      },
      "source": [
        "## Uniform Distribution"
      ]
    },
    {
      "cell_type": "code",
      "execution_count": 3,
      "metadata": {
        "id": "6403gvdbIJz5"
      },
      "outputs": [],
      "source": [
        "# 1\n",
        "uniform_samples = [uniform.rvs(0, theta, size=sample_size) for _ in range(K)]\n",
        "est_1 = lambda x: 2 * np.mean(x)\n",
        "est_2 = lambda x: max(x)\n",
        "estimations_1 = [est_1(x) for x in uniform_samples] \n",
        "estimations_2 = [est_2(x) for x in uniform_samples]"
      ]
    },
    {
      "cell_type": "code",
      "execution_count": 4,
      "metadata": {
        "id": "5GahmjdbIpe0",
        "colab": {
          "base_uri": "https://localhost:8080/"
        },
        "outputId": "c5e616b1-60f6-4108-b9b8-c1db1af1219d"
      },
      "outputs": [
        {
          "output_type": "stream",
          "name": "stdout",
          "text": [
            "mse(est_1): 0.8474\n",
            "mse(est_2): 0.3868\n"
          ]
        }
      ],
      "source": [
        "# 2\n",
        "bias_1 = bias(estimations_1, theta)\n",
        "var_1 = var(estimations_1)\n",
        "bias_2 = bias(estimations_2, theta)\n",
        "var_2 = var(estimations_2)\n",
        "print(f\"mse(est_1): {mse(var_1, bias_1):.4f}\")\n",
        "print(f\"mse(est_2): {mse(var_2, bias_2):.4f}\")"
      ]
    },
    {
      "cell_type": "code",
      "execution_count": 5,
      "metadata": {
        "id": "pl5ES_8UIuH9",
        "colab": {
          "base_uri": "https://localhost:8080/",
          "height": 265
        },
        "outputId": "73d615a3-584b-4d4b-d094-bcfbb853379a"
      },
      "outputs": [
        {
          "output_type": "display_data",
          "data": {
            "text/plain": [
              "<Figure size 432x288 with 1 Axes>"
            ],
            "image/png": "[encoded data removed]"
          },
          "metadata": {
            "needs_background": "light"
          }
        }
      ],
      "source": [
        "# 3\n",
        "kdeplot(estimations_1, label=\"Estimation 1\")\n",
        "kdeplot(estimations_2, label=\"Estimation 2\")\n",
        "plt.axvline(x=theta, color=\"red\")\n",
        "plt.legend()\n",
        "plt.show()"
      ]
    },
    {
      "cell_type": "code",
      "execution_count": 6,
      "metadata": {
        "id": "0s4zZlbCIvpJ",
        "colab": {
          "base_uri": "https://localhost:8080/"
        },
        "outputId": "e6f947e1-a3e6-42c8-f567-116c6445bf84"
      },
      "outputs": [
        {
          "output_type": "stream",
          "name": "stdout",
          "text": [
            "E[est_1]=4.9246, var(est1)=0.8122\n"
          ]
        }
      ],
      "source": [
        "# 4\n",
        "uniform_samples_20 = random.sample(uniform_samples, 20)\n",
        "estimations_1 = [est_1(x) for x in uniform_samples_20]\n",
        "print(f\"E[est_1]={np.mean(estimations_1):.4f}, var(est1)={var(estimations_1):.4f}\")"
      ]
    },
    {
      "cell_type": "markdown",
      "metadata": {
        "id": "qvZqJKNcI8am"
      },
      "source": [
        "## Exponential Distribution"
      ]
    },
    {
      "cell_type": "code",
      "execution_count": 7,
      "metadata": {
        "id": "2TCujiGpI9xi"
      },
      "outputs": [],
      "source": [
        "# 1\n",
        "expon_samples = [np.random.exponential(1,10) for _ in range(K)]\n",
        "est_1 = lambda x: 1 / np.mean(x)\n",
        "est_2 = lambda x: np.log(2) / np.median(x)\n",
        "estimations_1 = [est_1(x) for x in expon_samples] \n",
        "estimations_2 = [est_2(x) for x in expon_samples] "
      ]
    },
    {
      "cell_type": "code",
      "execution_count": 8,
      "metadata": {
        "id": "OJNriFC-JDm_",
        "colab": {
          "base_uri": "https://localhost:8080/"
        },
        "outputId": "b047435c-277a-407e-d35b-9e2f89756fc7"
      },
      "outputs": [
        {
          "output_type": "stream",
          "name": "stdout",
          "text": [
            "mse(est_1): 0.1637\n",
            "mse(est_2): 0.3335\n"
          ]
        }
      ],
      "source": [
        "# 2\n",
        "bias_1 = bias(estimations_1, 1)\n",
        "var_1 = var(estimations_1)\n",
        "bias_2 = bias(estimations_2, 1)\n",
        "var_2 = var(estimations_2)\n",
        "print(f\"mse(est_1): {mse(var_1, bias_1):.4f}\")\n",
        "print(f\"mse(est_2): {mse(var_2, bias_2):.4f}\")"
      ]
    },
    {
      "cell_type": "code",
      "execution_count": 9,
      "metadata": {
        "id": "nMyoNPKMJHyc",
        "colab": {
          "base_uri": "https://localhost:8080/",
          "height": 265
        },
        "outputId": "db1bdfaa-97cc-41d0-b8cb-a5fbd02b4925"
      },
      "outputs": [
        {
          "output_type": "display_data",
          "data": {
            "text/plain": [
              "<Figure size 432x288 with 1 Axes>"
            ],
            "image/png": "[encoded data removed]"
          },
          "metadata": {
            "needs_background": "light"
          }
        }
      ],
      "source": [
        "# 3\n",
        "kdeplot(estimations_1, label=\"Estimation 1\")\n",
        "kdeplot(estimations_2, label=\"Estimation 2\")\n",
        "plt.axvline(x=1,color=\"red\")\n",
        "plt.legend()\n",
        "plt.show()"
      ]
    },
    {
      "cell_type": "code",
      "execution_count": 10,
      "metadata": {
        "colab": {
          "base_uri": "https://localhost:8080/"
        },
        "id": "vzpFYXEIJIbW",
        "outputId": "28c565d6-af2b-4275-d9d8-420e3321aaf6"
      },
      "outputs": [
        {
          "output_type": "stream",
          "name": "stdout",
          "text": [
            "E[est_1]=1.1049, var(est1)=0.1527\n"
          ]
        }
      ],
      "source": [
        "# 4\n",
        "expon_samples_20 = random.sample(expon_samples, 20)\n",
        "estimations_1_ = [est_1(x) for x in expon_samples_20]\n",
        "print(f\"E[est_1]={np.mean(estimations_1):.4f}, var(est1)={var(estimations_1):.4f}\")"
      ]
    },
    {
      "cell_type": "markdown",
      "metadata": {
        "id": "s1F8F4Y9LNjx"
      },
      "source": [
        "## Bonus"
      ]
    },
    {
      "cell_type": "code",
      "execution_count": 39,
      "metadata": {
        "colab": {
          "base_uri": "https://localhost:8080/"
        },
        "id": "egge6Mb_H3D1",
        "outputId": "f2e9e939-944d-411a-dcc9-9590de45df40"
      },
      "outputs": [
        {
          "output_type": "stream",
          "name": "stdout",
          "text": [
            "X~N(mu,25)\n"
          ]
        }
      ],
      "source": [
        "# X~N(mu,25)\n",
        "print(\"X~N(mu,25)\")\n",
        "mu = 62\n",
        "sigma = 5\n",
        "p = norm.cdf((60 - mu) / sigma)\n",
        "sample_size = 10\n",
        "apply_indicator = np.vectorize(lambda number: 1 if number <= 60 else 0)\n",
        "est_1 = lambda x: np.mean(apply_indicator(x))\n",
        "est_2 = lambda x: norm.cdf((60 - np.mean(x)) / sigma)\n",
        "# 1\n",
        "norm_samples = [np.random.normal(mu, sigma, sample_size) for _ in range(K)]\n",
        "estimations_1 = [est_1(x) for x in norm_samples] \n",
        "estimations_2 = [est_2(x) for x in norm_samples] "
      ]
    },
    {
      "cell_type": "code",
      "source": [
        "# 2\n",
        "bias_1 = bias(estimations_1, p)\n",
        "var_1 = var(estimations_1)\n",
        "bias_2 = bias(estimations_2, p)\n",
        "var_2 = var(estimations_2)\n",
        "print(f\"mse(est_1): {mse(var_1, bias_1):.4f}\")\n",
        "print(f\"mse(est_2): {mse(var_2, bias_2):.4f}\")"
      ],
      "metadata": {
        "id": "h8XpCr4HIA4R",
        "colab": {
          "base_uri": "https://localhost:8080/"
        },
        "outputId": "2d94a41a-7b73-4128-e5af-2f721048a54d"
      },
      "execution_count": 40,
      "outputs": [
        {
          "output_type": "stream",
          "name": "stdout",
          "text": [
            "mse(est_1): 0.0223\n",
            "mse(est_2): 0.0124\n"
          ]
        }
      ]
    },
    {
      "cell_type": "code",
      "source": [
        "# 3\n",
        "kdeplot(estimations_1, label=\"Estimation 1\")\n",
        "kdeplot(estimations_2, label=\"Estimation 2\")\n",
        "plt.axvline(x=p,color=\"red\")\n",
        "plt.legend()\n",
        "plt.show()"
      ],
      "metadata": {
        "colab": {
          "base_uri": "https://localhost:8080/",
          "height": 265
        },
        "id": "oQaTWpXWXcTk",
        "outputId": "08bb1f55-9d5f-4014-d7ea-3c4efd13b2bc"
      },
      "execution_count": 41,
      "outputs": [
        {
          "output_type": "display_data",
          "data": {
            "text/plain": [
              "<Figure size 432x288 with 1 Axes>"
            ],
            "image/png": "[encoded data removed]"
          },
          "metadata": {
            "needs_background": "light"
          }
        }
      ]
    },
    {
      "cell_type": "code",
      "source": [
        "# 4\n",
        "norm_samples_20 = random.sample(norm_samples, 20)\n",
        "estimations_1_ = [est_1(x) for x in norm_samples_20]\n",
        "print(f\"E[est_1]={np.mean(estimations_1):.4f}, var(est1)={var(estimations_1):.4f}\")"
      ],
      "metadata": {
        "colab": {
          "base_uri": "https://localhost:8080/"
        },
        "id": "LVD6EowBXocS",
        "outputId": "99d47787-4a58-4087-9d0e-9711cf57a6ba"
      },
      "execution_count": 42,
      "outputs": [
        {
          "output_type": "stream",
          "name": "stdout",
          "text": [
            "E[est_1]=0.3458, var(est1)=0.0223\n"
          ]
        }
      ]
    },
    {
      "cell_type": "markdown",
      "metadata": {
        "id": "qdoK0S_V9o7C"
      },
      "source": [
        "## Problem 2 Bonus"
      ]
    },
    {
      "cell_type": "code",
      "execution_count": 15,
      "metadata": {
        "colab": {
          "base_uri": "https://localhost:8080/"
        },
        "id": "0TIpWYEY9qvL",
        "outputId": "cc8c547e-0892-49a0-9fa6-559e4982797d"
      },
      "outputs": [
        {
          "output_type": "stream",
          "name": "stdout",
          "text": [
            "p_est_1=0.1380, p_est_2=0.1667\n",
            "mu_est_1=3.9180, mu_est_2=3.8333\n",
            "Theoretical expected value: 3.8333\n"
          ]
        }
      ],
      "source": [
        "n = 1000\n",
        "\n",
        "values = np.array([2, 4, 6, 1, 5, 5])\n",
        "probabilities = np.array([1 / 6] * 6)\n",
        "theoretical_expected_value = (values * probabilities).sum() / probabilities.sum()\n",
        "\n",
        "vec = np.random.choice(values, size=n)\n",
        "X = np.array([int(x == 1) for x in vec])\n",
        "\n",
        "mle = lambda p: p ** (n * X.mean()) * (1 - p) ** (n - n * X.mean())\n",
        "mle_1_6 = mle(1/6)\n",
        "mle_1_3 = mle(1/3)\n",
        "mle_1_2 = mle(1/2)\n",
        "\n",
        "p_est_1 = X.mean()\n",
        "if mle_1_6 > mle_1_3 and mle_1_6 > mle_1_2:\n",
        "  p_est_2 = 1/6\n",
        "elif mle_1_3 > mle_1_6 and mle_1_3 > mle_1_2:\n",
        "  p_est_2 = 1/3\n",
        "else:\n",
        "  p_est_2 = 1/2\n",
        "\n",
        "mu_est_1 = vec.mean()\n",
        "mu_est_2 = 4.5 - 4 * p_est_2\n",
        "\n",
        "print(f\"p_est_1={p_est_1:.4f}, p_est_2={p_est_2:.4f}\")\n",
        "print(f\"mu_est_1={mu_est_1:.4f}, mu_est_2={mu_est_2:.4f}\")\n",
        "print(f\"Theoretical expected value: {theoretical_expected_value:.4f}\")"
      ]
    },
    {
      "cell_type": "markdown",
      "metadata": {
        "id": "rBGyf7dznxWs"
      },
      "source": [
        "# Problem 4"
      ]
    },
    {
      "cell_type": "code",
      "execution_count": 16,
      "metadata": {
        "colab": {
          "base_uri": "https://localhost:8080/"
        },
        "id": "RppzjR0HqlIm",
        "outputId": "d882e2e0-6fb1-45ff-d6b9-512589aff1b6"
      },
      "outputs": [
        {
          "output_type": "stream",
          "name": "stdout",
          "text": [
            "lambda = 0.1:\n",
            "mse(est_expon)=0.001\n",
            "mse(est_poisson)=0.005\n",
            "\n",
            "lambda = 10:\n",
            "mse(est_expon)=6.678\n",
            "mse(est_poisson)=0.488\n",
            "\n"
          ]
        }
      ],
      "source": [
        "K = 10 ** 4\n",
        "sample_size = 20\n",
        "lambdas = [0.1, 10]\n",
        "bias = lambda estimations, parameter: parameter - np.mean(estimations)\n",
        "var = lambda x: np.var(x, ddof=1)\n",
        "mse = lambda var_mse, bias_mse: var_mse + bias_mse ** 2\n",
        "est_expon = lambda x: 1 / np.mean(x)\n",
        "est_poisson = lambda x: np.mean(x)\n",
        "\n",
        "for lambda_ in lambdas:\n",
        "  print(f\"lambda = {lambda_}:\")\n",
        "  expon_samples = [np.random.exponential(1/lambda_,sample_size) for _ in range(K)]\n",
        "  poisson_samples = [poisson.rvs(lambda_, size=sample_size) for _ in range(K)]\n",
        "  estimations_expon = [est_expon(x) for x in expon_samples] \n",
        "  estimations_poisson = [est_poisson(x) for x in poisson_samples]\n",
        "  bias_expon = bias(estimations_expon, lambda_)\n",
        "  var_expon = var(estimations_expon)\n",
        "  bias_poisson = bias(estimations_poisson, lambda_)\n",
        "  var_poisson = var(estimations_poisson)\n",
        "  print(f\"mse(est_expon)={mse(var_expon, bias_expon):.3f}\")\n",
        "  print(f\"mse(est_poisson)={mse(var_poisson, bias_poisson):.3f}\")\n",
        "  print()\n"
      ]
    }
  ],
  "metadata": {
    "colab": {
      "provenance": [],
      "include_colab_link": true
    },
    "kernelspec": {
      "display_name": "Python 3",
      "name": "python3"
    },
    "language_info": {
      "name": "python"
    }
  },
  "nbformat": 4,
  "nbformat_minor": 0
}