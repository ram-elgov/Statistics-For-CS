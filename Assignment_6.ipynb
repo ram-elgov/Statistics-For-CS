{
  "nbformat": 4,
  "nbformat_minor": 0,
  "metadata": {
    "colab": {
      "provenance": [],
      "include_colab_link": true
    },
    "kernelspec": {
      "name": "python3",
      "display_name": "Python 3"
    },
    "language_info": {
      "name": "python"
    }
  },
  "cells": [
    {
      "cell_type": "markdown",
      "metadata": {
        "id": "view-in-github",
        "colab_type": "text"
      },
      "source": [
        "<a href=\"https://colab.research.google.com/github/ram-elgov/Statistics-For-CS/blob/main/Assignment_6.ipynb\" target=\"_parent\"><img src=\"https://colab.research.google.com/assets/colab-badge.svg\" alt=\"Open In Colab\"/></a>"
      ]
    },
    {
      "cell_type": "markdown",
      "source": [
        "# Problem 1\n"
      ],
      "metadata": {
        "id": "dwaJtC-pPJMH"
      }
    },
    {
      "cell_type": "code",
      "source": [
        "import matplotlib.pyplot as plt\n",
        "import numpy as np\n",
        "from scipy.stats import expon, norm, poisson, uniform\n",
        "from seaborn import kdeplot"
      ],
      "metadata": {
        "id": "xoDRx9FSMR7E"
      },
      "execution_count": null,
      "outputs": []
    },
    {
      "cell_type": "code",
      "source": [
        "K = 10 ** 4\n",
        "sample_size = 10\n",
        "bias = lambda estimations, parameter: parameter - np.mean(estimations)\n",
        "var = lambda x: np.var(x, ddof=1)\n",
        "mse = lambda var_mse, bias_mse: var_mse + bias_mse ** 2\n",
        "\n",
        "theta = 5\n",
        "lambda_ = 2"
      ],
      "metadata": {
        "id": "sAj4j4vuHq3G"
      },
      "execution_count": null,
      "outputs": []
    },
    {
      "cell_type": "markdown",
      "source": [
        "## Uniform Distribution"
      ],
      "metadata": {
        "id": "WQ4iXhu_IHEI"
      }
    },
    {
      "cell_type": "code",
      "source": [
        "# 1\n",
        "uniform_samples = [uniform.rvs(0, theta, size=sample_size) for _ in range(K)]\n",
        "est_1 = lambda x: 2 * np.mean(x)\n",
        "est_2 = max\n",
        "estimations_1 = [est_1(x) for x in uniform_samples] \n",
        "estimations_2 = [est_2(x) for x in uniform_samples]"
      ],
      "metadata": {
        "id": "6403gvdbIJz5"
      },
      "execution_count": null,
      "outputs": []
    },
    {
      "cell_type": "code",
      "source": [
        "# 2\n",
        "bias_1 = bias(estimations_1, theta)\n",
        "var_1 = var(estimations_1)\n",
        "bias_2 = bias(estimations_2, theta)\n",
        "var_2 = var(estimations_2)\n",
        "print(f\"mse(est_1): {mse(var_1, bias_1):.4f}\")\n",
        "print(f\"mse(est_2): {mse(var_2, bias_2):.4f}\")"
      ],
      "metadata": {
        "colab": {
          "base_uri": "https://localhost:8080/"
        },
        "id": "5GahmjdbIpe0",
        "outputId": "e4c9d0d0-fce2-42c3-f9c7-973592d8ffc8"
      },
      "execution_count": null,
      "outputs": [
        {
          "output_type": "stream",
          "name": "stdout",
          "text": [
            "mse(est_1): 0.8420\n",
            "mse(est_2): 0.3889\n"
          ]
        }
      ]
    },
    {
      "cell_type": "code",
      "source": [
        "# 3\n",
        "kdeplot(estimations_1, label=\"Estimation 1\")\n",
        "kdeplot(estimations_2, label=\"Estimation 2\")\n",
        "plt.axvline(x=theta, color=\"red\")\n",
        "plt.legend()\n",
        "plt.show()"
      ],
      "metadata": {
        "colab": {
          "base_uri": "https://localhost:8080/",
          "height": 265
        },
        "id": "pl5ES_8UIuH9",
        "outputId": "5e483644-7b56-4a02-90db-a88496901e37"
      },
      "execution_count": null,
      "outputs": [
        {
          "output_type": "display_data",
          "data": {
            "text/plain": [
              "<Figure size 432x288 with 1 Axes>"
            ],
            "image/png": "[encoded data removed]"
          },
          "metadata": {
            "needs_background": "light"
          }
        }
      ]
    },
    {
      "cell_type": "code",
      "source": [
        "# 4\n",
        "uniform_samples = [uniform.rvs(0,theta,size=20) for _ in range(K)]\n",
        "estimations_1 = [est_1(x) for x in uniform_samples]\n",
        "print(f\"E[est_1]={np.mean(estimations_1):.4f}, var(est1)={var(estimations_1):.4f}\")"
      ],
      "metadata": {
        "colab": {
          "base_uri": "https://localhost:8080/"
        },
        "id": "0s4zZlbCIvpJ",
        "outputId": "59aaef0d-b77d-46fc-9fb8-7389049c18c1"
      },
      "execution_count": null,
      "outputs": [
        {
          "output_type": "stream",
          "name": "stdout",
          "text": [
            "E[est_1]=4.9840, var(est1)=0.4218\n"
          ]
        }
      ]
    },
    {
      "cell_type": "markdown",
      "source": [
        "## Exponential Distribution"
      ],
      "metadata": {
        "id": "qvZqJKNcI8am"
      }
    },
    {
      "cell_type": "code",
      "source": [
        "# 1\n",
        "expon_samples = [expon.rvs(loc=0,scale= 1/lambda_,size=sample_size) for _ in range(K)]\n",
        "est_1 = lambda x: 1 / np.mean(x)\n",
        "est_2 = lambda x: np.log(2) / np.median(x)\n",
        "estimations_1 = [est_1(x) for x in expon_samples] \n",
        "estimations_2 = [est_2(x) for x in expon_samples] "
      ],
      "metadata": {
        "id": "2TCujiGpI9xi"
      },
      "execution_count": null,
      "outputs": []
    },
    {
      "cell_type": "code",
      "source": [
        "# 2\n",
        "bias_1 = bias(estimations_1, lambda_)\n",
        "var_1 = var(estimations_1)\n",
        "bias_2 = bias(estimations_2, lambda_)\n",
        "var_2 = var(estimations_2)\n",
        "print(f\"mse(est_1): {mse(var_1, bias_1):.4f}\")\n",
        "print(f\"mse(est_2): {mse(var_2, bias_2):.4f}\")"
      ],
      "metadata": {
        "colab": {
          "base_uri": "https://localhost:8080/"
        },
        "id": "OJNriFC-JDm_",
        "outputId": "d87b6fb9-cab1-48ee-aa12-9c423df0ef2e"
      },
      "execution_count": null,
      "outputs": [
        {
          "output_type": "stream",
          "name": "stdout",
          "text": [
            "mse(est_1): 0.6671\n",
            "mse(est_2): 1.2619\n"
          ]
        }
      ]
    },
    {
      "cell_type": "code",
      "source": [
        "# 3\n",
        "kdeplot(estimations_1, label=\"Estimation 1\")\n",
        "kdeplot(estimations_2, label=\"Estimation 2\")\n",
        "plt.axvline(x=lambda_,color=\"red\")\n",
        "plt.legend()\n",
        "plt.show()"
      ],
      "metadata": {
        "colab": {
          "base_uri": "https://localhost:8080/",
          "height": 265
        },
        "id": "nMyoNPKMJHyc",
        "outputId": "f6e166c1-d87b-4d9b-ab1c-194dbb470380"
      },
      "execution_count": null,
      "outputs": [
        {
          "output_type": "display_data",
          "data": {
            "text/plain": [
              "<Figure size 432x288 with 1 Axes>"
            ],
            "image/png": "[encoded data removed]"
          },
          "metadata": {
            "needs_background": "light"
          }
        }
      ]
    },
    {
      "cell_type": "code",
      "source": [
        "# 4\n",
        "expon_samples = [expon.rvs(loc=lambda_, scale=1, size=20) for _ in range(K)]\n",
        "estimations_1 = [est_1(x) for x in expon_samples]\n",
        "print(f\"E[est_1]={np.mean(estimations_1):.4f}, var(est1)={var(estimations_1):.4f}\")"
      ],
      "metadata": {
        "colab": {
          "base_uri": "https://localhost:8080/"
        },
        "id": "vzpFYXEIJIbW",
        "outputId": "1aa20105-d099-4a18-c622-84927121c651"
      },
      "execution_count": null,
      "outputs": [
        {
          "output_type": "stream",
          "name": "stdout",
          "text": [
            "E[est_1]=0.3354, var(est1)=0.0006\n"
          ]
        }
      ]
    },
    {
      "cell_type": "markdown",
      "source": [
        "## Bonus"
      ],
      "metadata": {
        "id": "s1F8F4Y9LNjx"
      }
    },
    {
      "cell_type": "code",
      "source": [
        "# X~N(mu,25)\n",
        "print(\"X~N(mu,25)\")\n",
        "mu = 62\n",
        "# 1\n",
        "norm_samples = [norm.rvs(0, theta, size=sample_size) for _ in range(K)]\n",
        "# 2\n",
        "# 3\n",
        "# 4"
      ],
      "metadata": {
        "colab": {
          "base_uri": "https://localhost:8080/",
          "height": 672
        },
        "id": "egge6Mb_H3D1",
        "outputId": "6c7934b1-51af-4d51-92fc-7bb0c6bc9fe8"
      },
      "execution_count": null,
      "outputs": [
        {
          "output_type": "stream",
          "name": "stdout",
          "text": [
            "X~U(0,theta)\n",
            "mse(est_1): 0.8257044048034663\n",
            "mse(est_2): 0.3795792309013538\n"
          ]
        },
        {
          "output_type": "display_data",
          "data": {
            "text/plain": [
              "<Figure size 432x288 with 1 Axes>"
            ],
            "image/png": "[encoded data removed]"
          },
          "metadata": {
            "needs_background": "light"
          }
        },
        {
          "output_type": "stream",
          "name": "stdout",
          "text": [
            "E[est_1]=5.004052547162874, var(est1)=0.41314804782232883\n",
            "X~exp(lamb)\n",
            "mse(est_1): 0.17053853757317386\n",
            "mse(est_2): 0.35345613210995996\n"
          ]
        },
        {
          "output_type": "display_data",
          "data": {
            "text/plain": [
              "<Figure size 432x288 with 1 Axes>"
            ],
            "image/png": "[encoded data removed]"
          },
          "metadata": {
            "needs_background": "light"
          }
        },
        {
          "output_type": "stream",
          "name": "stdout",
          "text": [
            "E[est_1]=0.5060908825110044, var(est1)=0.0030923829569246284\n",
            "X~N(mu,25)\n"
          ]
        }
      ]
    },
    {
      "cell_type": "code",
      "source": [],
      "metadata": {
        "id": "h8XpCr4HIA4R"
      },
      "execution_count": null,
      "outputs": []
    },
    {
      "cell_type": "markdown",
      "source": [
        "# Problem 4"
      ],
      "metadata": {
        "id": "rBGyf7dznxWs"
      }
    },
    {
      "cell_type": "code",
      "source": [
        "K = 10 ** 4\n",
        "sample_size = 20\n",
        "lambdas = [0.1, 10]\n",
        "bias = lambda estimations, parameter: parameter - np.mean(estimations)\n",
        "var = lambda x: np.var(x, ddof=1)\n",
        "mse = lambda var_mse, bias_mse: var_mse + bias_mse ** 2\n",
        "est_expon = lambda x: 1 / np.mean(x)\n",
        "est_poisson = lambda x: np.mean(x)\n",
        "\n",
        "for lambda_ in lambdas:\n",
        "  print(f\"lambda = {lambda_}:\")\n",
        "  expon_samples = [expon.rvs(loc=lambda_, size=sample_size) for _ in range(K)]\n",
        "  poisson_samples = [poisson.rvs(lambda_, size=sample_size) for _ in range(K)]\n",
        "  estimations_expon = [est_expon(x) for x in expon_samples] \n",
        "  estimations_poisson = [est_poisson(x) for x in poisson_samples]\n",
        "  bias_expon = bias(estimations_expon, lambda_)\n",
        "  var_expon = var(estimations_expon)\n",
        "  bias_poisson = bias(estimations_poisson, lambda_)\n",
        "  var_poisson = var(estimations_poisson)\n",
        "  print(f\"mse(est_expon)={mse(var_expon, bias_expon):.4f}\")\n",
        "  print(f\"mse(est_poisson)={mse(var_poisson, bias_poisson):.4f}\")\n",
        "  print()\n"
      ],
      "metadata": {
        "id": "RppzjR0HqlIm",
        "colab": {
          "base_uri": "https://localhost:8080/"
        },
        "outputId": "5ea8a328-34c5-4aee-ec71-1a01af9920c4"
      },
      "execution_count": null,
      "outputs": [
        {
          "output_type": "stream",
          "name": "stdout",
          "text": [
            "lambda = 0.1:\n",
            "mse(est_expon)=0.7526\n",
            "mse(est_poisson)=0.0050\n",
            "\n",
            "lambda = 10:\n",
            "mse(est_expon)=98.1890\n",
            "mse(est_poisson)=0.5063\n",
            "\n"
          ]
        }
      ]
    },
    {
      "cell_type": "code",
      "source": [],
      "metadata": {
        "id": "p0sKzwT414xy"
      },
      "execution_count": null,
      "outputs": []
    }
  ]
}